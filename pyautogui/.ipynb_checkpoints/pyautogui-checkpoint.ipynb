{
 "cells": [
  {
   "cell_type": "markdown",
   "id": "18a75e01-f573-4571-9f45-85dd8c79dc13",
   "metadata": {},
   "source": [
    "# pyautogui\n",
    "## pyautogui always work on pixel\n",
    "\n",
    "```\n",
    "    pyautogui.size() will tell screen size\n",
    "```\n",
    "\n",
    "```\n",
    "    pyautogui.postion() will tell cursor current postion size\n",
    "```\n",
    "\n",
    "```\n",
    "    pyautogui.moveTo() will move cursor on our given position it work always x,y, and duration like moveTo(100,2000,3)\n",
    "```"
   ]
  },
  {
   "cell_type": "code",
   "execution_count": 1,
   "id": "8a53349a-0118-4fe3-857a-8313b30545b9",
   "metadata": {},
   "outputs": [
    {
     "data": {
      "text/plain": [
       "Size(width=1920, height=1080)"
      ]
     },
     "execution_count": 1,
     "metadata": {},
     "output_type": "execute_result"
    }
   ],
   "source": [
    "import pyautogui\n",
    "\n",
    "pyautogui.size()\n"
   ]
  },
  {
   "cell_type": "code",
   "execution_count": 2,
   "id": "74b28a6e-6889-41ff-b9d4-39f3de26bb51",
   "metadata": {},
   "outputs": [
    {
     "name": "stdout",
     "output_type": "stream",
     "text": [
      "1920 1080\n"
     ]
    }
   ],
   "source": [
    "x,y = pyautogui.size()\n",
    "\n",
    "print(x,y)\n"
   ]
  },
  {
   "cell_type": "code",
   "execution_count": 9,
   "id": "1d8c245e-1af2-400c-87b2-325034a94e63",
   "metadata": {},
   "outputs": [
    {
     "data": {
      "text/plain": [
       "Point(x=1324, y=319)"
      ]
     },
     "execution_count": 9,
     "metadata": {},
     "output_type": "execute_result"
    }
   ],
   "source": [
    "pyautogui.position()"
   ]
  },
  {
   "cell_type": "code",
   "execution_count": 11,
   "id": "a05efe98-a24b-45ba-9ad9-bc8246ef8c10",
   "metadata": {},
   "outputs": [],
   "source": [
    "pyautogui.moveTo(684,1043,2)\n",
    "pyautogui.moveTo(344,600,2)"
   ]
  },
  {
   "cell_type": "code",
   "execution_count": 12,
   "id": "8aeb3d8c-c485-4448-9845-4ef6fc4312da",
   "metadata": {},
   "outputs": [],
   "source": [
    "pyautogui.moveTo(684,1043,2)\n",
    "pyautogui.click()\n",
    "pyautogui.moveTo(344,600,2)\n",
    "pyautogui.click()"
   ]
  },
  {
   "cell_type": "code",
   "execution_count": 13,
   "id": "edadb509-b737-4e78-8abb-cf215f16593e",
   "metadata": {},
   "outputs": [],
   "source": [
    "pyautogui.moveTo(684,1043,2)\n",
    "pyautogui.click()\n",
    "pyautogui.moveTo(344,600,2)\n",
    "pyautogui.click(interval=2)"
   ]
  },
  {
   "cell_type": "code",
   "execution_count": null,
   "id": "75d1e5fb-df46-4545-bbac-8933a7d50ca6",
   "metadata": {},
   "outputs": [],
   "source": []
  },
  {
   "cell_type": "code",
   "execution_count": null,
   "id": "67acc97e-03d2-4364-80c9-f5a8d61594af",
   "metadata": {},
   "outputs": [],
   "source": [
    "pyautogui.click(86,1073, 3)\n",
    "pyautogui.write('chrome',interval=0.2)\n",
    "pyautogui.press('enter')\n",
    "pyautogui.click(915,602,2)\n",
    "pyautogui.press(915,602)\n",
    "\n",
    "pyautogui.write('Pakistan zindabad')"
   ]
  },
  {
   "cell_type": "code",
   "execution_count": null,
   "id": "8190be93-c71f-4f57-b817-e13a0ecfde8f",
   "metadata": {},
   "outputs": [],
   "source": []
  },
  {
   "cell_type": "code",
   "execution_count": 31,
   "id": "f250af52-a854-479c-806b-fd3563a61056",
   "metadata": {},
   "outputs": [
    {
     "data": {
      "text/plain": [
       "Point(x=1057, y=693)"
      ]
     },
     "execution_count": 31,
     "metadata": {},
     "output_type": "execute_result"
    }
   ],
   "source": [
    "pyautogui.position()"
   ]
  },
  {
   "cell_type": "code",
   "execution_count": 132,
   "id": "652d8c4c-c5d7-40f6-b337-813fadbb9eaf",
   "metadata": {},
   "outputs": [],
   "source": [
    "import pyautogui"
   ]
  },
  {
   "cell_type": "code",
   "execution_count": 134,
   "id": "9b1ab479-e9e0-4ba9-a1f6-3b3916f9e1e6",
   "metadata": {},
   "outputs": [
    {
     "data": {
      "text/plain": [
       "Point(x=715, y=523)"
      ]
     },
     "execution_count": 134,
     "metadata": {},
     "output_type": "execute_result"
    }
   ],
   "source": [
    "pyautogui.position()"
   ]
  },
  {
   "cell_type": "code",
   "execution_count": 135,
   "id": "b87507dd-a310-4622-b1c6-a2c686e4ccb6",
   "metadata": {},
   "outputs": [],
   "source": [
    "pyautogui.moveTo(1606, 17, duration=0.5)\n",
    "pyautogui.click(1606, 17, duration=0.4)\n",
    "pyautogui.write(\"youtube.com\",interval=0.15)\n",
    "pyautogui.press(\"enter\")\n",
    "pyautogui.moveTo(607, 162, duration=0.5)\n",
    "pyautogui.click(607, 162)\n",
    "pyautogui.write(\"saylani\",interval=0.15)\n",
    "pyautogui.press(\"enter\")\n",
    "\n",
    "pyautogui.moveTo(655, 378, duration=1.5)\n",
    "pyautogui.click(655, 378,duration=0.6)\n",
    "\n",
    "pyautogui.moveTo(655, 378, duration=1.5)\n",
    "pyautogui.click(1057, 693)\n",
    "pyautogui.sleep(1)\n",
    "\n",
    "pyautogui.scroll(-100,x=-1000,y=-1000)\n",
    "\n",
    "pyautogui.moveTo(507, 769, duration=1.6)\n",
    "pyautogui.click(507, 769,duration=0.6)\n",
    "\n",
    "\n",
    "\n",
    "# Subscribe channel position\n",
    "\n",
    "pyautogui.moveTo(623, 911, duration=1.5)\n",
    "pyautogui.click(623, 911,duration=0.7)\n",
    "\n",
    "\n",
    "# Liek Channel Postion\n",
    "\n",
    "pyautogui.moveTo(778, 914, duration=1.4)\n",
    "pyautogui.click(778, 914)\n",
    "\n",
    "\n",
    "pyautogui.sleep(1)\n",
    "\n",
    "pyautogui.scroll(-500,x=-1000,y=-1000)\n",
    "\n",
    "\n",
    "# Write comment postion\n",
    "\n",
    "pyautogui.click(267, 670,duration=1.4)\n",
    "pyautogui.write(\"SubhanAllah\",interval=0.15)\n",
    "\n",
    "# Submit comment postion\n",
    "\n",
    "pyautogui.moveTo(1119, 716, duration=1.5)\n",
    "pyautogui.click(1119, 716)\n",
    "\n",
    "pyautogui.sleep(1)\n",
    "\n",
    "pyautogui.scroll(500,x=-1000,y=-1000)\n",
    "\n",
    "\n",
    "\n",
    "for i in range(20):\n",
    "\n",
    "    pyautogui.moveTo(301, 798, duration=1.6)\n",
    "    pyautogui.click(301, 798,duration=0.6)\n",
    "    \n",
    "    if i == 0:\n",
    "        pyautogui.moveTo(935, 910, duration=1.6)\n",
    "        pyautogui.click(746, 910,duration=0.6)\n",
    "\n",
    "    else:\n",
    "        pyautogui.moveTo(746, 910, duration=0.6)\n",
    "        pyautogui.click(746, 910,duration=0.6)\n",
    "            \n",
    "\n",
    "\n",
    "\n",
    "\n",
    "\n",
    "\n",
    "\n",
    "\n",
    "\n",
    "\n",
    "\n"
   ]
  },
  {
   "cell_type": "code",
   "execution_count": 122,
   "id": "c0b8b5e0-93cd-4dcc-a42f-73e60395627e",
   "metadata": {},
   "outputs": [
    {
     "data": {
      "text/plain": [
       "Point(x=931, y=909)"
      ]
     },
     "execution_count": 122,
     "metadata": {},
     "output_type": "execute_result"
    }
   ],
   "source": [
    "pyautogui.position()"
   ]
  }
 ],
 "metadata": {
  "kernelspec": {
   "display_name": "Python 3 (ipykernel)",
   "language": "python",
   "name": "python3"
  },
  "language_info": {
   "codemirror_mode": {
    "name": "ipython",
    "version": 3
   },
   "file_extension": ".py",
   "mimetype": "text/x-python",
   "name": "python",
   "nbconvert_exporter": "python",
   "pygments_lexer": "ipython3",
   "version": "3.10.9"
  }
 },
 "nbformat": 4,
 "nbformat_minor": 5
}
