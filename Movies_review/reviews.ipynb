{
 "cells": [
  {
   "cell_type": "code",
   "execution_count": null,
   "id": "e4d7d571-d483-4eb1-bcb8-c92af78ded42",
   "metadata": {},
   "outputs": [
    {
     "name": "stdout",
     "output_type": "stream",
     "text": [
      "Epoch 1/10\n",
      "782/782 [==============================] - 531s 672ms/step - loss: 0.6934 - accuracy: 0.5022\n",
      "Epoch 2/10\n",
      "782/782 [==============================] - 535s 684ms/step - loss: 0.6932 - accuracy: 0.5044\n",
      "Epoch 3/10\n",
      "782/782 [==============================] - 538s 688ms/step - loss: 0.6921 - accuracy: 0.5018\n",
      "Epoch 4/10\n",
      "585/782 [=====================>........] - ETA: 2:22 - loss: 0.6912 - accuracy: 0.5043"
     ]
    }
   ],
   "source": [
    "# Import necessary libraries\n",
    "import tensorflow as tf\n",
    "from tensorflow.keras.models import Sequential\n",
    "from tensorflow.keras.layers import Embedding, LSTM, Dense\n",
    "from tensorflow.keras.datasets import imdb\n",
    "from tensorflow.keras.preprocessing.sequence import pad_sequences\n",
    "import numpy as np\n",
    "\n",
    "# Load and preprocess the IMDB dataset\n",
    "max_words = 100000  # Maximum number of words in your vocabulary\n",
    "embedding_dim = 100  # Dimension of word embeddings\n",
    "maxlen = 1000  # Maximum length of input sequences (padding length)\n",
    "\n",
    "(train_data, train_labels), (test_data, test_labels) = imdb.load_data(num_words=max_words)\n",
    "train_data = pad_sequences(train_data, maxlen=maxlen, padding='post', truncating='post')\n",
    "\n",
    "# Create and train a machine learning model\n",
    "model = Sequential()\n",
    "model.add(Embedding(max_words, embedding_dim, input_length=maxlen))\n",
    "model.add(LSTM(32))\n",
    "model.add(Dense(1, activation='sigmoid'))\n",
    "\n",
    "model.compile(optimizer='adam', loss='binary_crossentropy', metrics=['accuracy'])\n",
    "model.fit(train_data, train_labels, epochs=10, batch_size=32)\n",
    "\n",
    "# Save the model and its weights\n",
    "model.save('imdb_sentiment_model.h5')\n",
    "\n",
    "test_data = np.array(test_data)\n",
    "test_labels = np.array(test_labels)\n",
    "\n",
    "# Now you can evaluate the model\n",
    "test_loss, test_accuracy = model.evaluate(test_data, test_labels)\n",
    "print(\"Test Accuracy:\", test_accuracy)\n"
   ]
  },
  {
   "cell_type": "code",
   "execution_count": null,
   "id": "a57dd3b0-4487-4570-b159-19b6137c0fea",
   "metadata": {},
   "outputs": [],
   "source": [
    "from tensorflow.keras.preprocessing.text import Tokenizer\n",
    "from tensorflow.keras.preprocessing.sequence import pad_sequences\n",
    "import numpy as np\n",
    "\n",
    "# Sample movie review\n",
    "review_text = \"i do not like\"\n",
    "\n",
    "# Preprocess the review text to match the model's input format\n",
    "# Tokenization\n",
    "tokenizer = Tokenizer(num_words=max_words)  # Use the same max_words as during training\n",
    "tokenizer.fit_on_texts([review_text])\n",
    "review_sequence = tokenizer.texts_to_sequences([review_text])\n",
    "\n",
    "# Padding\n",
    "review_padded = pad_sequences(review_sequence, maxlen=maxlen, padding='post', truncating='post')\n",
    "\n",
    "# Make a sentiment prediction\n",
    "sentiment_prob = model.predict(np.array(review_padded))\n",
    "\n",
    "# Interpret the sentiment prediction\n",
    "if sentiment_prob  > 0.5:\n",
    "    sentiment = \"Positive\"\n",
    "    print(f\"Predicted Sentiment: {sentiment} (Probability: {sentiment_prob[0][0]})\")\n",
    "else:\n",
    "    sentiment = \"Negative\"\n",
    "\n",
    "\n"
   ]
  },
  {
   "cell_type": "code",
   "execution_count": null,
   "id": "0c18d869-f1aa-4c93-a50d-e4c867d2cdf2",
   "metadata": {},
   "outputs": [],
   "source": [
    "from tensorflow.keras.models import load_model\n",
    "from tensorflow.keras.preprocessing.text import Tokenizer\n",
    "from tensorflow.keras.preprocessing.sequence import pad_sequences\n",
    "import numpy as np\n",
    "\n",
    "# Load the saved model\n",
    "model = load_model('imdb_sentiment_model.h5')\n",
    "\n",
    "# Sample review text\n",
    "review_text = \"This movie was not good.\"\n",
    "\n",
    "# Preprocess the review text to match the input format expected by the model\n",
    "max_words = 200000  # Adjust as needed, should match the model's configuration\n",
    "maxlen = 5000  # Adjusted to match the model's expected input length\n",
    "\n",
    "# Tokenization\n",
    "tokenizer = Tokenizer(num_words=max_words)\n",
    "tokenizer.fit_on_texts([review_text])\n",
    "review_sequence = tokenizer.texts_to_sequences([review_text])\n",
    "\n",
    "# Padding\n",
    "review_padded = pad_sequences(review_sequence, maxlen=maxlen, padding='post', truncating='post')\n",
    "\n",
    "# Predict sentiment\n",
    "sentiment_prob = model.predict(np.array(review_padded))\n",
    "\n",
    "if sentiment_prob > 0.5:\n",
    "    sentiment = \"Positive\"\n",
    "else:\n",
    "    sentiment = \"Negative\"\n",
    "\n",
    "print(f\"Predicted Sentiment: {sentiment} (Probability: {sentiment_prob[0][0]})\")\n"
   ]
  },
  {
   "cell_type": "code",
   "execution_count": null,
   "id": "88966ec0-f8a5-4a56-a6ca-d7d661033c01",
   "metadata": {},
   "outputs": [],
   "source": []
  },
  {
   "cell_type": "code",
   "execution_count": null,
   "id": "623d7858-94e6-41e0-a863-90e307ca806f",
   "metadata": {},
   "outputs": [],
   "source": []
  },
  {
   "cell_type": "code",
   "execution_count": null,
   "id": "71c3d621-6fcf-424a-b008-4daa2ee7a759",
   "metadata": {},
   "outputs": [],
   "source": []
  },
  {
   "cell_type": "code",
   "execution_count": null,
   "id": "e431f6fe-b634-471a-a4e3-99454faa249a",
   "metadata": {},
   "outputs": [],
   "source": []
  }
 ],
 "metadata": {
  "kernelspec": {
   "display_name": "Python 3 (ipykernel)",
   "language": "python",
   "name": "python3"
  },
  "language_info": {
   "codemirror_mode": {
    "name": "ipython",
    "version": 3
   },
   "file_extension": ".py",
   "mimetype": "text/x-python",
   "name": "python",
   "nbconvert_exporter": "python",
   "pygments_lexer": "ipython3",
   "version": "3.10.9"
  }
 },
 "nbformat": 4,
 "nbformat_minor": 5
}
