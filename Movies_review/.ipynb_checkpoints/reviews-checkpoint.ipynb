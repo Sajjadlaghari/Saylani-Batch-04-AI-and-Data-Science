{
 "cells": [
  {
   "cell_type": "code",
   "execution_count": 1,
   "id": "e4d7d571-d483-4eb1-bcb8-c92af78ded42",
   "metadata": {},
   "outputs": [
    {
     "name": "stdout",
     "output_type": "stream",
     "text": [
      "Epoch 1/10\n",
      "782/782 [==============================] - 77s 96ms/step - loss: 0.6694 - accuracy: 0.5776\n",
      "Epoch 2/10\n",
      "782/782 [==============================] - 79s 101ms/step - loss: 0.6226 - accuracy: 0.6455\n",
      "Epoch 3/10\n",
      "782/782 [==============================] - 75s 96ms/step - loss: 0.4820 - accuracy: 0.7841\n",
      "Epoch 4/10\n",
      "782/782 [==============================] - 77s 98ms/step - loss: 0.4501 - accuracy: 0.8129\n",
      "Epoch 5/10\n",
      "782/782 [==============================] - 73s 94ms/step - loss: 0.4227 - accuracy: 0.8312\n",
      "Epoch 6/10\n",
      "782/782 [==============================] - 72s 92ms/step - loss: 0.5774 - accuracy: 0.6910\n",
      "Epoch 7/10\n",
      "782/782 [==============================] - 81s 103ms/step - loss: 0.3954 - accuracy: 0.8046\n",
      "Epoch 8/10\n",
      "782/782 [==============================] - 77s 99ms/step - loss: 0.2180 - accuracy: 0.9222\n",
      "Epoch 9/10\n",
      "782/782 [==============================] - 79s 101ms/step - loss: 0.1550 - accuracy: 0.9498\n",
      "Epoch 10/10\n",
      "782/782 [==============================] - 81s 103ms/step - loss: 0.1110 - accuracy: 0.9672\n"
     ]
    },
    {
     "name": "stderr",
     "output_type": "stream",
     "text": [
      "C:\\Users\\Sajjad Sindhi\\AppData\\Local\\anaconda3\\lib\\site-packages\\keras\\src\\engine\\training.py:3000: UserWarning: You are saving your model as an HDF5 file via `model.save()`. This file format is considered legacy. We recommend using instead the native Keras format, e.g. `model.save('my_model.keras')`.\n",
      "  saving_api.save_model(\n"
     ]
    },
    {
     "ename": "ValueError",
     "evalue": "Failed to convert a NumPy array to a Tensor (Unsupported object type list).",
     "output_type": "error",
     "traceback": [
      "\u001b[1;31m---------------------------------------------------------------------------\u001b[0m",
      "\u001b[1;31mValueError\u001b[0m                                Traceback (most recent call last)",
      "Cell \u001b[1;32mIn[1], line 28\u001b[0m\n\u001b[0;32m     25\u001b[0m \u001b[38;5;66;03m# Save the model and its weights\u001b[39;00m\n\u001b[0;32m     26\u001b[0m model\u001b[38;5;241m.\u001b[39msave(\u001b[38;5;124m'\u001b[39m\u001b[38;5;124mimdb_sentiment_model.h5\u001b[39m\u001b[38;5;124m'\u001b[39m)\n\u001b[1;32m---> 28\u001b[0m test_loss, test_accuracy \u001b[38;5;241m=\u001b[39m \u001b[43mmodel\u001b[49m\u001b[38;5;241;43m.\u001b[39;49m\u001b[43mevaluate\u001b[49m\u001b[43m(\u001b[49m\u001b[43mtest_data\u001b[49m\u001b[43m,\u001b[49m\u001b[43m \u001b[49m\u001b[43mtest_labels\u001b[49m\u001b[43m)\u001b[49m\n\u001b[0;32m     30\u001b[0m \u001b[38;5;28mprint\u001b[39m(\u001b[38;5;124m\"\u001b[39m\u001b[38;5;124mTest Accuracy:\u001b[39m\u001b[38;5;124m\"\u001b[39m, test_accuracy)\n",
      "File \u001b[1;32m~\\AppData\\Local\\anaconda3\\lib\\site-packages\\keras\\src\\utils\\traceback_utils.py:70\u001b[0m, in \u001b[0;36mfilter_traceback.<locals>.error_handler\u001b[1;34m(*args, **kwargs)\u001b[0m\n\u001b[0;32m     67\u001b[0m     filtered_tb \u001b[38;5;241m=\u001b[39m _process_traceback_frames(e\u001b[38;5;241m.\u001b[39m__traceback__)\n\u001b[0;32m     68\u001b[0m     \u001b[38;5;66;03m# To get the full stack trace, call:\u001b[39;00m\n\u001b[0;32m     69\u001b[0m     \u001b[38;5;66;03m# `tf.debugging.disable_traceback_filtering()`\u001b[39;00m\n\u001b[1;32m---> 70\u001b[0m     \u001b[38;5;28;01mraise\u001b[39;00m e\u001b[38;5;241m.\u001b[39mwith_traceback(filtered_tb) \u001b[38;5;28;01mfrom\u001b[39;00m \u001b[38;5;28;01mNone\u001b[39;00m\n\u001b[0;32m     71\u001b[0m \u001b[38;5;28;01mfinally\u001b[39;00m:\n\u001b[0;32m     72\u001b[0m     \u001b[38;5;28;01mdel\u001b[39;00m filtered_tb\n",
      "File \u001b[1;32m~\\AppData\\Local\\anaconda3\\lib\\site-packages\\tensorflow\\python\\framework\\constant_op.py:98\u001b[0m, in \u001b[0;36mconvert_to_eager_tensor\u001b[1;34m(value, ctx, dtype)\u001b[0m\n\u001b[0;32m     96\u001b[0m     dtype \u001b[38;5;241m=\u001b[39m dtypes\u001b[38;5;241m.\u001b[39mas_dtype(dtype)\u001b[38;5;241m.\u001b[39mas_datatype_enum\n\u001b[0;32m     97\u001b[0m ctx\u001b[38;5;241m.\u001b[39mensure_initialized()\n\u001b[1;32m---> 98\u001b[0m \u001b[38;5;28;01mreturn\u001b[39;00m \u001b[43mops\u001b[49m\u001b[38;5;241;43m.\u001b[39;49m\u001b[43mEagerTensor\u001b[49m\u001b[43m(\u001b[49m\u001b[43mvalue\u001b[49m\u001b[43m,\u001b[49m\u001b[43m \u001b[49m\u001b[43mctx\u001b[49m\u001b[38;5;241;43m.\u001b[39;49m\u001b[43mdevice_name\u001b[49m\u001b[43m,\u001b[49m\u001b[43m \u001b[49m\u001b[43mdtype\u001b[49m\u001b[43m)\u001b[49m\n",
      "\u001b[1;31mValueError\u001b[0m: Failed to convert a NumPy array to a Tensor (Unsupported object type list)."
     ]
    }
   ],
   "source": [
    "# Import necessary libraries\n",
    "import tensorflow as tf\n",
    "from tensorflow.keras.models import Sequential\n",
    "from tensorflow.keras.layers import Embedding, LSTM, Dense\n",
    "from tensorflow.keras.datasets import imdb\n",
    "from tensorflow.keras.preprocessing.sequence import pad_sequences\n",
    "import numpy as np\n",
    "\n",
    "# Load and preprocess the IMDB dataset\n",
    "max_words = 10000  # Maximum number of words in your vocabulary\n",
    "embedding_dim = 100  # Dimension of word embeddings\n",
    "maxlen = 200  # Maximum length of input sequences (padding length)\n",
    "\n",
    "(train_data, train_labels), (test_data, test_labels) = imdb.load_data(num_words=max_words)\n",
    "train_data = pad_sequences(train_data, maxlen=maxlen, padding='post', truncating='post')\n",
    "\n",
    "# Create and train a machine learning model\n",
    "model = Sequential()\n",
    "model.add(Embedding(max_words, embedding_dim, input_length=maxlen))\n",
    "model.add(LSTM(32))\n",
    "model.add(Dense(1, activation='sigmoid'))\n",
    "\n",
    "model.compile(optimizer='adam', loss='binary_crossentropy', metrics=['accuracy'])\n",
    "model.fit(train_data, train_labels, epochs=10, batch_size=32)\n",
    "\n",
    "# Save the model and its weights\n",
    "model.save('imdb_sentiment_model.h5')\n",
    "\n",
    "test_loss, test_accuracy = model.evaluate(test_data, test_labels)\n",
    "\n",
    "print(\"Test Accuracy:\", test_accuracy)\n"
   ]
  },
  {
   "cell_type": "code",
   "execution_count": 12,
   "id": "a57dd3b0-4487-4570-b159-19b6137c0fea",
   "metadata": {},
   "outputs": [
    {
     "name": "stdout",
     "output_type": "stream",
     "text": [
      "1/1 [==============================] - 0s 27ms/step\n",
      "Predicted Sentiment: Positive (Probability: 0.6190553903579712)\n"
     ]
    }
   ],
   "source": [
    "from tensorflow.keras.preprocessing.text import Tokenizer\n",
    "from tensorflow.keras.preprocessing.sequence import pad_sequences\n",
    "import numpy as np\n",
    "\n",
    "# Sample movie review\n",
    "review_text = \"Movie Was not good\"\n",
    "\n",
    "# Preprocess the review text to match the model's input format\n",
    "# Tokenization\n",
    "tokenizer = Tokenizer(num_words=max_words)  # Use the same max_words as during training\n",
    "tokenizer.fit_on_texts([review_text])\n",
    "review_sequence = tokenizer.texts_to_sequences([review_text])\n",
    "\n",
    "# Padding\n",
    "review_padded = pad_sequences(review_sequence, maxlen=maxlen, padding='post', truncating='post')\n",
    "\n",
    "# Make a sentiment prediction\n",
    "sentiment_prob = model.predict(np.array(review_padded))\n",
    "\n",
    "# Interpret the sentiment prediction\n",
    "if sentiment_prob > 0.5:\n",
    "    sentiment = \"Positive\"\n",
    "else:\n",
    "    sentiment = \"Negative\"\n",
    "\n",
    "print(f\"Predicted Sentiment: {sentiment} (Probability: {sentiment_prob[0][0]})\")\n"
   ]
  },
  {
   "cell_type": "code",
   "execution_count": null,
   "id": "0c18d869-f1aa-4c93-a50d-e4c867d2cdf2",
   "metadata": {},
   "outputs": [],
   "source": []
  },
  {
   "cell_type": "code",
   "execution_count": null,
   "id": "88966ec0-f8a5-4a56-a6ca-d7d661033c01",
   "metadata": {},
   "outputs": [],
   "source": []
  },
  {
   "cell_type": "code",
   "execution_count": null,
   "id": "623d7858-94e6-41e0-a863-90e307ca806f",
   "metadata": {},
   "outputs": [],
   "source": []
  },
  {
   "cell_type": "code",
   "execution_count": null,
   "id": "71c3d621-6fcf-424a-b008-4daa2ee7a759",
   "metadata": {},
   "outputs": [],
   "source": []
  },
  {
   "cell_type": "code",
   "execution_count": null,
   "id": "e431f6fe-b634-471a-a4e3-99454faa249a",
   "metadata": {},
   "outputs": [],
   "source": []
  }
 ],
 "metadata": {
  "kernelspec": {
   "display_name": "Python 3 (ipykernel)",
   "language": "python",
   "name": "python3"
  },
  "language_info": {
   "codemirror_mode": {
    "name": "ipython",
    "version": 3
   },
   "file_extension": ".py",
   "mimetype": "text/x-python",
   "name": "python",
   "nbconvert_exporter": "python",
   "pygments_lexer": "ipython3",
   "version": "3.10.9"
  }
 },
 "nbformat": 4,
 "nbformat_minor": 5
}
