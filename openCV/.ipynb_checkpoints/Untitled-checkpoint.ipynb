{
 "cells": [
  {
   "cell_type": "code",
   "execution_count": 1,
   "id": "868067f9-8c0b-40a7-9804-ca3abc850505",
   "metadata": {},
   "outputs": [],
   "source": [
    "import cv2"
   ]
  },
  {
   "cell_type": "code",
   "execution_count": 1,
   "id": "ea9c70f4-95c4-4bb6-b545-f4f095086189",
   "metadata": {},
   "outputs": [
    {
     "name": "stdout",
     "output_type": "stream",
     "text": [
      "Requirement already satisfied: opencv-python in c:\\users\\sajjad sindhi\\appdata\\local\\anaconda3\\lib\\site-packages (4.8.0.74)\n",
      "Requirement already satisfied: numpy>=1.19.3 in c:\\users\\sajjad sindhi\\appdata\\local\\anaconda3\\lib\\site-packages (from opencv-python) (1.23.5)\n"
     ]
    }
   ],
   "source": [
    "!pip install opencv-python"
   ]
  },
  {
   "cell_type": "code",
   "execution_count": null,
   "id": "08a105a2-6f72-4578-95df-d92fedd52b61",
   "metadata": {},
   "outputs": [],
   "source": [
    "fac_cap = cv2.CascadeClassifier(\"haarcascade_frontalface_default.xmll\")\n",
    "cap_video = cv2.VideoCapture(0)\n",
    "while True:\n",
    "    rel, video_data = cap_video.read()\n",
    "    cv2.imshow('Video_Captured',video_data)\n",
    "    \n",
    "    if cv2.waitKey(10) == ord('a'):\n",
    "        break\n",
    "\n",
    "cap_video.release()"
   ]
  },
  {
   "cell_type": "code",
   "execution_count": null,
   "id": "e7cf9c93-229d-414d-b70b-f39ea519882b",
   "metadata": {},
   "outputs": [],
   "source": []
  },
  {
   "cell_type": "code",
   "execution_count": null,
   "id": "fce84098-b1f5-4077-b1f0-b8af8082e2cf",
   "metadata": {},
   "outputs": [],
   "source": []
  },
  {
   "cell_type": "code",
   "execution_count": null,
   "id": "c3165f67-af95-491d-8027-1cf51bddec88",
   "metadata": {},
   "outputs": [],
   "source": []
  }
 ],
 "metadata": {
  "kernelspec": {
   "display_name": "Python 3 (ipykernel)",
   "language": "python",
   "name": "python3"
  },
  "language_info": {
   "codemirror_mode": {
    "name": "ipython",
    "version": 3
   },
   "file_extension": ".py",
   "mimetype": "text/x-python",
   "name": "python",
   "nbconvert_exporter": "python",
   "pygments_lexer": "ipython3",
   "version": "3.10.9"
  }
 },
 "nbformat": 4,
 "nbformat_minor": 5
}
