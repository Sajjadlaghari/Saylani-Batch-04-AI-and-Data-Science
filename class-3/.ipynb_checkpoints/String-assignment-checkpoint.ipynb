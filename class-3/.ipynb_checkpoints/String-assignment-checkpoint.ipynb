{
 "cells": [
  {
   "cell_type": "markdown",
   "id": "d56b7672-662e-4f33-9c2c-ab0ccd193d46",
   "metadata": {},
   "source": [
    "# String Assignment"
   ]
  },
  {
   "cell_type": "markdown",
   "id": "55ca0163-542a-4f41-aea0-871cfda095e3",
   "metadata": {},
   "source": [
    "### upper()\n",
    "\n",
    "* 1 upper function used for When we need all letter in Capital Form"
   ]
  },
  {
   "cell_type": "code",
   "execution_count": 12,
   "id": "18c10249-1d8c-42f4-bf2b-7634010e9807",
   "metadata": {},
   "outputs": [
    {
     "name": "stdout",
     "output_type": "stream",
     "text": [
      " \n",
      "    INSTITUE NAME : SAYLANI MASS IT TRAINING\n",
      "    STUDENT NAME: SAJJAD ALI\n",
      "    COURSE NAME:  AI AND DATA SCIENCE\n",
      "    STUDETN AGE   30\n",
      "\n",
      "\n"
     ]
    }
   ],
   "source": [
    "student_name = \"Sajjad ALi\"\n",
    "institute_name = \"Saylani Mass IT Training\"\n",
    "course_name = \"AI and Data Science\"\n",
    "age = 30\n",
    "\n",
    "Student_card = f\"\"\" \n",
    "    Institue Name : {institute_name}\n",
    "    Student Name: {student_name}\n",
    "    Course Name:  {course_name}\n",
    "    Studetn Age   {age}\n",
    "\n",
    "\"\"\"\n",
    "\n",
    "\n",
    "\n",
    "print(Student_card.upper())"
   ]
  },
  {
   "cell_type": "markdown",
   "id": "662f6b07-347f-4054-a65e-a6045d3edba2",
   "metadata": {},
   "source": [
    "### Lower method\n",
    "* 2 lower method used for when we need letter in small abc for any purpose"
   ]
  },
  {
   "cell_type": "code",
   "execution_count": 15,
   "id": "0efdefbb-4847-49b5-8b9c-d5beae5985e0",
   "metadata": {},
   "outputs": [
    {
     "name": "stdout",
     "output_type": "stream",
     "text": [
      " \n",
      "    institue name : saylani mass it training\n",
      "    student name: sajjad ali\n",
      "    course name:  ai and data science\n",
      "    studetn age   30\n",
      "\n",
      "\n"
     ]
    }
   ],
   "source": [
    "\n",
    "student_name = \"SAJJAD ALI\"\n",
    "institute_name = \"SAYLANI MASS IT TRAINING\"\n",
    "course_name = \"AI AND DATA SCIENCE\"\n",
    "age = 30\n",
    "\n",
    "Student_card = f\"\"\" \n",
    "    Institue Name : {institute_name}\n",
    "    Student Name: {student_name}\n",
    "    Course Name:  {course_name}\n",
    "    Studetn Age   {age}\n",
    "\n",
    "\"\"\"\n",
    "\n",
    "\n",
    "\n",
    "print(Student_card.lower())"
   ]
  },
  {
   "cell_type": "markdown",
   "id": "b6fd8546-5278-4c13-aaab-467403c318de",
   "metadata": {},
   "source": [
    "## title()\n",
    "* 3 converts the first character to upper case and rest to lower case"
   ]
  },
  {
   "cell_type": "code",
   "execution_count": 8,
   "id": "6536d69e-89c5-4da2-b02f-8f38b0b3ee47",
   "metadata": {},
   "outputs": [
    {
     "name": "stdout",
     "output_type": "stream",
     "text": [
      "Post Title Welcome To The Saylani Mass It Training Program \n"
     ]
    }
   ],
   "source": [
    "\n",
    "title_text = \"post title welcome to the saylani mass it training program \"\n",
    "print(title_text.title())"
   ]
  },
  {
   "cell_type": "markdown",
   "id": "e7a7b71b-2fea-4360-8a54-843ae9192d1d",
   "metadata": {},
   "source": [
    "# swapcase()  \n",
    "* 4 swaps the case of all characters in the string  upper case character to lowercase and viceversa\n"
   ]
  },
  {
   "cell_type": "code",
   "execution_count": 15,
   "id": "16f1e014-d901-47e6-b9a9-779294f86ad0",
   "metadata": {},
   "outputs": [
    {
     "name": "stdout",
     "output_type": "stream",
     "text": [
      "converted LOWER TO UPPER STRING\n"
     ]
    }
   ],
   "source": [
    "text = \"CONVERTED lower to upper string\"\n",
    "print(text.swapcase())"
   ]
  },
  {
   "cell_type": "markdown",
   "id": "1d16143d-9120-4ef8-a376-530bf6ae0eb4",
   "metadata": {},
   "source": [
    "## zfill()\n",
    "* 5 zfill() method used for how many zeroes before t number do you want to add\n",
    "* this method only used for string not for integer number\n",
    "\n"
   ]
  },
  {
   "cell_type": "code",
   "execution_count": 18,
   "id": "d00bb201-11d1-4a32-8460-c8579e604438",
   "metadata": {},
   "outputs": [
    {
     "name": "stdout",
     "output_type": "stream",
     "text": [
      "0000000015\n"
     ]
    }
   ],
   "source": [
    "text = '15'\n",
    "\n",
    "x = text.zfill(10)\n",
    "\n",
    "print(x)"
   ]
  },
  {
   "cell_type": "markdown",
   "id": "422ac815-5a7e-45de-bf04-0993e2b72d0c",
   "metadata": {},
   "source": [
    "## translate()\n",
    "* 6  Use Disctionary with ascii codes replace \n"
   ]
  },
  {
   "cell_type": "code",
   "execution_count": 43,
   "id": "4160b3da-9ad0-4dd7-9103-b5750f8a211a",
   "metadata": {},
   "outputs": [
    {
     "name": "stdout",
     "output_type": "stream",
     "text": [
      "Hello Qam!\n"
     ]
    }
   ],
   "source": [
    "asscci = {83:  81}\n",
    "text = \"Hello Sam!\"\n",
    "print(txt.translate(asscci))"
   ]
  },
  {
   "cell_type": "markdown",
   "id": "f7ea0281-afb6-483a-928e-0667835cea53",
   "metadata": {},
   "source": [
    "## strip()\n",
    "* 7 stripe() method used for remove spaces"
   ]
  },
  {
   "cell_type": "code",
   "execution_count": 49,
   "id": "8443eac5-68c3-4449-90e9-a4395e67db89",
   "metadata": {},
   "outputs": [
    {
     "name": "stdout",
     "output_type": "stream",
     "text": [
      " This is a orange  and it is my favorite\n"
     ]
    }
   ],
   "source": [
    "text = \"     orange         \"\n",
    "\n",
    "x = text.strip()\n",
    "\n",
    "print(\" This is a\", x, \" and it is my favorite\")"
   ]
  },
  {
   "cell_type": "code",
   "execution_count": null,
   "id": "e403fd6e-b2f5-4cd1-b419-027039839890",
   "metadata": {},
   "outputs": [],
   "source": [
    "## startwith()\n",
    "\n",
    "* 8 star"
   ]
  },
  {
   "cell_type": "code",
   "execution_count": 51,
   "id": "aa8390b8-f3d1-4bc5-b418-9c9294537904",
   "metadata": {},
   "outputs": [
    {
     "name": "stdout",
     "output_type": "stream",
     "text": [
      "False\n"
     ]
    }
   ],
   "source": [
    "text = \"Hi, welcome to my world.\"\n",
    "\n",
    "x = text.startswith(\"Hi\")\n",
    "\n",
    "print(x)"
   ]
  },
  {
   "cell_type": "markdown",
   "id": "71682b18-d9e3-4d21-b604-ae7c3405b14b",
   "metadata": {},
   "source": [
    "## splitlines()\n",
    "* 8 splitlines() this method used for start and end with array bracket"
   ]
  },
  {
   "cell_type": "code",
   "execution_count": 7,
   "id": "afbbec07-e38e-4b60-a8e2-cc93a7f31264",
   "metadata": {},
   "outputs": [
    {
     "name": "stdout",
     "output_type": "stream",
     "text": [
      "['Thank you for the Welcome to the saylani']\n"
     ]
    }
   ],
   "source": [
    "text = \"Thank you for the Welcome to the saylani\"\n",
    "\n",
    "x = text.splitlines()\n",
    "\n",
    "print(x)"
   ]
  },
  {
   "cell_type": "markdown",
   "id": "5e4d962c-4bfc-4c26-be8a-e2c4472a6185",
   "metadata": {},
   "source": [
    "## split()\n",
    "* 9 split() method used for left and right side array and every word with single qoutes"
   ]
  },
  {
   "cell_type": "code",
   "execution_count": 5,
   "id": "17c12682-7042-47bb-a829-53bb447b16f4",
   "metadata": {},
   "outputs": [
    {
     "name": "stdout",
     "output_type": "stream",
     "text": [
      "['welcome', 'to', 'the', 'jungle']\n"
     ]
    }
   ],
   "source": [
    "txt = \"welcome to the jungle\"\n",
    "\n",
    "x = txt.split()\n",
    "\n",
    "print(x)"
   ]
  },
  {
   "cell_type": "markdown",
   "id": "7d81932d-8c03-47be-b6e0-4bc28a1e84c8",
   "metadata": {},
   "source": [
    "## rstrip()\n",
    "* rstrip() method used for remove white spaces from write right side"
   ]
  },
  {
   "cell_type": "code",
   "execution_count": 9,
   "id": "b102b2c8-9e6d-45ea-bc10-1e5a2ae3bbba",
   "metadata": {},
   "outputs": [
    {
     "name": "stdout",
     "output_type": "stream",
     "text": [
      "     hello word\n"
     ]
    }
   ],
   "source": [
    "text = \"     hello word     \"\n",
    "\n",
    "x = text.rstrip()\n",
    "\n",
    "print(x)"
   ]
  },
  {
   "cell_type": "markdown",
   "id": "0200c141-befe-4958-853b-19a762efb68c",
   "metadata": {},
   "source": [
    "## lstrip()\n",
    "* 10 lstrip() method used for remove white spaces from write left"
   ]
  },
  {
   "cell_type": "code",
   "execution_count": 11,
   "id": "210da59f-e7d3-4a44-b148-f953d4157fe0",
   "metadata": {},
   "outputs": [
    {
     "name": "stdout",
     "output_type": "stream",
     "text": [
      "hello word     \n"
     ]
    }
   ],
   "source": [
    "text = \"     hello word     \"\n",
    "\n",
    "x = text.lstrip()\n",
    "\n",
    "print(x)"
   ]
  },
  {
   "cell_type": "markdown",
   "id": "1e9241b4-8fd0-4952-a117-f4d25d1f35ce",
   "metadata": {},
   "source": [
    "## rsplit()\n",
    "* 11 esplit() method used for convert into string into array"
   ]
  },
  {
   "cell_type": "code",
   "execution_count": 17,
   "id": "1de409bd-3b14-4681-afc2-b7b4d64524f4",
   "metadata": {},
   "outputs": [
    {
     "name": "stdout",
     "output_type": "stream",
     "text": [
      "['Sajjad', 'AHmed', 'Ali']\n"
     ]
    }
   ],
   "source": [
    "text = \"Sajjad, AHmed, Ali\"\n",
    "\n",
    "x = text.rsplit(\", \")\n",
    "\n",
    "print(x)"
   ]
  },
  {
   "cell_type": "markdown",
   "id": "cafdb31b-84ba-421a-8ede-1450816c799b",
   "metadata": {},
   "source": [
    "## center() \n",
    "* 12 Print the word \"banana\", taking up the space of 20 characters, with \"banana\" in the middle:"
   ]
  },
  {
   "cell_type": "code",
   "execution_count": 19,
   "id": "b29f150d-89f0-4f42-9533-84700fbd1aae",
   "metadata": {},
   "outputs": [
    {
     "name": "stdout",
     "output_type": "stream",
     "text": [
      "                         Sajjad Ali                         \n"
     ]
    }
   ],
   "source": [
    "text = \"Sajjad Ali\"\n",
    "\n",
    "x = text.center(60)\n",
    "\n",
    "print(x)"
   ]
  },
  {
   "cell_type": "markdown",
   "id": "2633914f-b4b6-4ed9-8217-2aeb2fe4e7a6",
   "metadata": {},
   "source": [
    "## count\n",
    "* 13 Return the number of times the value \"f\" appears in the string:"
   ]
  },
  {
   "cell_type": "code",
   "execution_count": 20,
   "id": "8320ad7b-eb89-4893-9d95-d246ad00064c",
   "metadata": {},
   "outputs": [
    {
     "name": "stdout",
     "output_type": "stream",
     "text": [
      "8\n"
     ]
    }
   ],
   "source": [
    "text = \"Hello my self Sajjad Ali laghari iam working as a software enigineer\"\n",
    "\n",
    "x = text.count(\"a\")\n",
    "\n",
    "print(x)"
   ]
  },
  {
   "cell_type": "markdown",
   "id": "14c978ed-028a-482d-97e0-8e376155e425",
   "metadata": {},
   "source": [
    "## ecode()\n",
    "* 14 encode the string "
   ]
  },
  {
   "cell_type": "code",
   "execution_count": 23,
   "id": "8b17dc65-3d70-4ec8-9f90-bb11312f1752",
   "metadata": {},
   "outputs": [
    {
     "name": "stdout",
     "output_type": "stream",
     "text": [
      "b'My name is sajjadt\\xc3\\xa5le'\n"
     ]
    }
   ],
   "source": [
    "txt = \"My name is sajjadtåle\"\n",
    "\n",
    "x = txt.encode()\n",
    "\n",
    "print(x)"
   ]
  },
  {
   "cell_type": "markdown",
   "id": "23a558e8-2ec8-4a1d-8e4e-7424075be061",
   "metadata": {},
   "source": [
    "## endwith()\n",
    "* 15 endwith method Check if the string ends with a . dot or not:\n"
   ]
  },
  {
   "cell_type": "code",
   "execution_count": 24,
   "id": "4265c8f7-773f-44c8-bdd4-e08a2d5726a9",
   "metadata": {},
   "outputs": [
    {
     "name": "stdout",
     "output_type": "stream",
     "text": [
      "False\n"
     ]
    }
   ],
   "source": [
    "    txt = \"Sajjad Ali Laghari\"\n",
    "\n",
    "x = txt.endswith(\".\")\n",
    "\n",
    "print(x)"
   ]
  },
  {
   "cell_type": "markdown",
   "id": "29983c27-2e4b-4bd3-a6cb-13407539345d",
   "metadata": {},
   "source": [
    "## expandtabs()\n",
    "* 16 this function used for \\t give more tabs but this will will as much you want less or more"
   ]
  },
  {
   "cell_type": "code",
   "execution_count": 28,
   "id": "dd70dad8-1b36-443f-80fb-0983f404a527",
   "metadata": {},
   "outputs": [
    {
     "name": "stdout",
     "output_type": "stream",
     "text": [
      "H         e         l         l         o\n"
     ]
    }
   ],
   "source": [
    "\n",
    "txt = \"H\\te\\tl\\tl\\to\"\n",
    "\n",
    "x =  txt.expandtabs(10)\n",
    "\n",
    "print(x)"
   ]
  },
  {
   "cell_type": "markdown",
   "id": "39f88614-1432-4ff9-991a-140dca4068de",
   "metadata": {},
   "source": [
    "## find()\n",
    "* 17 find method used for find charater or word in sentence or paragraph it will return index of that number\n"
   ]
  },
  {
   "cell_type": "code",
   "execution_count": 31,
   "id": "6ab01d7e-8843-4c02-9dc4-4558ad49b0e6",
   "metadata": {},
   "outputs": [
    {
     "name": "stdout",
     "output_type": "stream",
     "text": [
      "21\n"
     ]
    }
   ],
   "source": [
    "text = \"Hello, welcome to my Saylani Head office.\"\n",
    "\n",
    "x = text.find(\"Saylani\")\n",
    "\n",
    "print(x)"
   ]
  },
  {
   "cell_type": "markdown",
   "id": "50a205f1-6820-4dfe-8725-dad2dd45336d",
   "metadata": {},
   "source": [
    "## index()\n",
    "* 18 index method will tell us index of that word letter\n"
   ]
  },
  {
   "cell_type": "code",
   "execution_count": 33,
   "id": "27186481-0a98-4f71-a811-1a148bb84028",
   "metadata": {},
   "outputs": [
    {
     "name": "stdout",
     "output_type": "stream",
     "text": [
      "15\n"
     ]
    }
   ],
   "source": [
    "text = \"Hello, welcome to Saylani.\"\n",
    "\n",
    "x = text.index(\"to\")\n",
    "\n",
    "print(x)"
   ]
  },
  {
   "cell_type": "markdown",
   "id": "d9d33e1c-4a84-47d2-a030-72281abdc094",
   "metadata": {},
   "source": [
    "## isalnum\n",
    "* 19 this method will check alpha numeric and will return tru false"
   ]
  },
  {
   "cell_type": "code",
   "execution_count": 38,
   "id": "6b1b9235-00d6-4c4d-8bb1-6889c81d58f7",
   "metadata": {},
   "outputs": [
    {
     "name": "stdout",
     "output_type": "stream",
     "text": [
      "False\n"
     ]
    }
   ],
   "source": [
    "txt = \"Company&\"\n",
    "\n",
    "x = txt.isalnum()\n",
    "\n",
    "print(x)"
   ]
  },
  {
   "cell_type": "markdown",
   "id": "883c5265-f77c-41d4-a0f6-3eac46dba242",
   "metadata": {},
   "source": [
    "## isalpha\n",
    "* 20 this method will check only alpha and will return tru false"
   ]
  },
  {
   "cell_type": "code",
   "execution_count": 41,
   "id": "5a5911b3-5726-46c9-a5ae-fd89885f7ccf",
   "metadata": {},
   "outputs": [
    {
     "name": "stdout",
     "output_type": "stream",
     "text": [
      "False\n"
     ]
    }
   ],
   "source": [
    "txt = \"Company1\"\n",
    "\n",
    "x = txt.isalpha()\n",
    "\n",
    "print(x)"
   ]
  },
  {
   "cell_type": "markdown",
   "id": "9d14b60c-c687-44c3-ba56-40972138cc0d",
   "metadata": {},
   "source": [
    "## isascii\n",
    "* 21 this method will check ascii number and will return tru false"
   ]
  },
  {
   "cell_type": "code",
   "execution_count": 49,
   "id": "8f2727f3-c727-44b1-b8e5-31476880746f",
   "metadata": {},
   "outputs": [
    {
     "name": "stdout",
     "output_type": "stream",
     "text": [
      "True\n"
     ]
    }
   ],
   "source": [
    "txt = \"kk\"\n",
    "\n",
    "x = txt.isascii()\n",
    "\n",
    "print(x)"
   ]
  },
  {
   "cell_type": "markdown",
   "id": "009ecbea-6da2-4769-af3f-1d5dfd6dea8d",
   "metadata": {},
   "source": [
    "## isdecimal()\n",
    "* 22 this method used for check isdecial number or not and return true false"
   ]
  },
  {
   "cell_type": "code",
   "execution_count": 54,
   "id": "454edfff-e8e8-43c7-ba3e-37ebbcb84379",
   "metadata": {},
   "outputs": [
    {
     "name": "stdout",
     "output_type": "stream",
     "text": [
      "False\n"
     ]
    }
   ],
   "source": [
    "txt = \"10\"\n",
    "\n",
    "x = txt.isdecimal()\n",
    "\n",
    "print(x)"
   ]
  },
  {
   "cell_type": "markdown",
   "id": "b82e3e1f-2851-4034-91ac-faff64e5d3c0",
   "metadata": {},
   "source": [
    "## isdigit()\n",
    "* 23 Check if all the characters in the text are digits"
   ]
  },
  {
   "cell_type": "code",
   "execution_count": 58,
   "id": "7abe2e6e-c801-4a49-b875-3cba9ae4cbeb",
   "metadata": {},
   "outputs": [
    {
     "name": "stdout",
     "output_type": "stream",
     "text": [
      "True\n"
     ]
    }
   ],
   "source": [
    "txt = \"50800899\"\n",
    "\n",
    "x = txt.isdigit()\n",
    "\n",
    "print(x)"
   ]
  },
  {
   "cell_type": "markdown",
   "id": "ffefb763-8739-4eab-a3ea-8b4791eb98ef",
   "metadata": {},
   "source": [
    "## islower\n",
    "* 24 Check if all the characters in the text are in lower case or not will return true false"
   ]
  },
  {
   "cell_type": "code",
   "execution_count": 65,
   "id": "988d9649-49d3-4c60-b8e4-fbe299ba765d",
   "metadata": {},
   "outputs": [
    {
     "name": "stdout",
     "output_type": "stream",
     "text": [
      "True\n"
     ]
    }
   ],
   "source": [
    "text = \"sajjad ali laghari!\"\n",
    "\n",
    "x = text.islower()\n",
    "\n",
    "print(x)"
   ]
  },
  {
   "cell_type": "markdown",
   "id": "90b56db4-64c4-48d3-9572-0a7beacd3ca7",
   "metadata": {},
   "source": [
    "## isnumeric()\n",
    "* 25 this method will check value is numberic or not will return true false"
   ]
  },
  {
   "cell_type": "code",
   "execution_count": 67,
   "id": "96a7ecff-2d4f-4718-89e7-f629fee95373",
   "metadata": {},
   "outputs": [
    {
     "name": "stdout",
     "output_type": "stream",
     "text": [
      "False\n"
     ]
    }
   ],
   "source": [
    "text = \"8k565543\"\n",
    "\n",
    "x = text.isnumeric()\n",
    "\n",
    "print(x)"
   ]
  },
  {
   "cell_type": "markdown",
   "id": "f84878e0-194e-472f-b908-da53dcd6e6b0",
   "metadata": {},
   "source": [
    "## printable\n",
    "* 26 this method check text are pribale or not"
   ]
  },
  {
   "cell_type": "code",
   "execution_count": 72,
   "id": "d990db2b-4a8e-43e3-b64f-71c4eb13c55c",
   "metadata": {},
   "outputs": [
    {
     "name": "stdout",
     "output_type": "stream",
     "text": [
      "True\n"
     ]
    }
   ],
   "source": [
    "txt = \"$$$$$$$$$$$$$$$$$$$$$$$$$$$$$$$$$$$$$$$$$$$$$$$$$$$$$$$$$$$$\"\n",
    "\n",
    "x = txt.isprintable()\n",
    "\n",
    "print(x)"
   ]
  },
  {
   "cell_type": "code",
   "execution_count": 74,
   "id": "b5b29711-189f-4aba-ab0f-92d3806a4b35",
   "metadata": {},
   "outputs": [
    {
     "name": "stdout",
     "output_type": "stream",
     "text": [
      "False\n"
     ]
    }
   ],
   "source": [
    "txt = \"   \"\n",
    "\n",
    "x = txt.isspace()\n",
    "\n",
    "print(x)"
   ]
  },
  {
   "cell_type": "code",
   "execution_count": null,
   "id": "27ddef4d-1ffb-40af-a31b-93e09497be34",
   "metadata": {},
   "outputs": [],
   "source": []
  }
 ],
 "metadata": {
  "kernelspec": {
   "display_name": "Python 3 (ipykernel)",
   "language": "python",
   "name": "python3"
  },
  "language_info": {
   "codemirror_mode": {
    "name": "ipython",
    "version": 3
   },
   "file_extension": ".py",
   "mimetype": "text/x-python",
   "name": "python",
   "nbconvert_exporter": "python",
   "pygments_lexer": "ipython3",
   "version": "3.9.13"
  }
 },
 "nbformat": 4,
 "nbformat_minor": 5
}
