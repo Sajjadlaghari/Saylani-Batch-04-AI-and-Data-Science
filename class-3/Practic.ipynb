{
 "cells": [
  {
   "cell_type": "code",
   "execution_count": 1,
   "id": "bf93b849-69da-4b9f-91aa-24eddce6e156",
   "metadata": {},
   "outputs": [
    {
     "name": "stdout",
     "output_type": "stream",
     "text": [
      "Hello\n"
     ]
    }
   ],
   "source": [
    "print(\"Hello\")"
   ]
  },
  {
   "cell_type": "code",
   "execution_count": 2,
   "id": "cb5a0648-b20c-4d12-b349-bcc468a2b6f8",
   "metadata": {},
   "outputs": [
    {
     "name": "stdout",
     "output_type": "stream",
     "text": [
      "Institute Name: Saylani Mass IT Training\n",
      "Student Name: Sajjad ALi Course Name:AI and Data Science\n",
      "Age: 30\n"
     ]
    }
   ],
   "source": [
    "student_name = \"Sajjad ALi\"\n",
    "institute_name = \"Saylani Mass IT Training\"\n",
    "course_name = \"AI and Data Science\"\n",
    "age = 30\n",
    "\n",
    "card = \"Institute Name: \" + institute_name + \"\\nStudent Name: \" + student_name+ \" Course Name:\" + course_name+\"\\nAge: \"+ str(age) \n",
    "\n",
    "print(card)"
   ]
  },
  {
   "cell_type": "code",
   "execution_count": 6,
   "id": "ff3d0568-2831-43e7-a39f-65082915fcb4",
   "metadata": {},
   "outputs": [
    {
     "name": "stdout",
     "output_type": "stream",
     "text": [
      " \n",
      "    Institue Name : Saylani Welfaor\n",
      "    Student Name: Sajjad Ali\n",
      "    Course Name:  Course Name\n",
      "    Studetn Age   Student Age\n",
      "\n",
      "\n"
     ]
    }
   ],
   "source": [
    "student_name = \"Sajjad ALi\"\n",
    "institute_name = \"Saylani Mass IT Training\"\n",
    "course_name = \"AI and Data Science\"\n",
    "age = 30\n",
    "\n",
    "Student_card = \"\"\" \n",
    "    Institue Name : {}\n",
    "    Student Name: {}\n",
    "    Course Name:  {}\n",
    "    Studetn Age   {}\n",
    "\n",
    "\"\"\".format('Saylani Welfaor','Sajjad Ali','Course Name',\"Student Age\")\n",
    "\n",
    "\n",
    "\n",
    "print(Student_card)"
   ]
  },
  {
   "cell_type": "code",
   "execution_count": 7,
   "id": "d84ee76b-4a1f-424a-8d94-061168df83d3",
   "metadata": {},
   "outputs": [
    {
     "name": "stdout",
     "output_type": "stream",
     "text": [
      " \n",
      "    Institue Name : Saylani Mass IT Training\n",
      "    Student Name: Sajjad ALi\n",
      "    Course Name:  AI and Data Science\n",
      "    Studetn Age   30\n",
      "\n",
      "\n"
     ]
    }
   ],
   "source": [
    "student_name = \"Sajjad ALi\"\n",
    "institute_name = \"Saylani Mass IT Training\"\n",
    "course_name = \"AI and Data Science\"\n",
    "age = 30\n",
    "\n",
    "Student_card = f\"\"\" \n",
    "    Institue Name : {institute_name}\n",
    "    Student Name: {student_name}\n",
    "    Course Name:  {course_name}\n",
    "    Studetn Age   {age}\n",
    "\n",
    "\"\"\"\n",
    "\n",
    "\n",
    "\n",
    "print(Student_card)"
   ]
  },
  {
   "cell_type": "code",
   "execution_count": null,
   "id": "9ffa4a6d-915c-4ca5-a324-29415191ed1c",
   "metadata": {},
   "outputs": [],
   "source": []
  }
 ],
 "metadata": {
  "kernelspec": {
   "display_name": "Python 3 (ipykernel)",
   "language": "python",
   "name": "python3"
  },
  "language_info": {
   "codemirror_mode": {
    "name": "ipython",
    "version": 3
   },
   "file_extension": ".py",
   "mimetype": "text/x-python",
   "name": "python",
   "nbconvert_exporter": "python",
   "pygments_lexer": "ipython3",
   "version": "3.9.13"
  }
 },
 "nbformat": 4,
 "nbformat_minor": 5
}
