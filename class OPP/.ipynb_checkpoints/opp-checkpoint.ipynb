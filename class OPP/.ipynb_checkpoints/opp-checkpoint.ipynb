{
 "cells": [
  {
   "cell_type": "code",
   "execution_count": 2,
   "id": "c16fffae-ba6d-4ce9-88af-0a238871a4cb",
   "metadata": {},
   "outputs": [],
   "source": [
    "class student():\n",
    "    def Welcome():\n",
    "        print(\"Welcome to the python course\")\n",
    "\n",
    "        \n",
    "obj = Student()"
   ]
  },
  {
   "cell_type": "code",
   "execution_count": null,
   "id": "220fc275-fae2-47b8-ac6f-8990d8c8ac00",
   "metadata": {},
   "outputs": [],
   "source": []
  }
 ],
 "metadata": {
  "kernelspec": {
   "display_name": "Python 3 (ipykernel)",
   "language": "python",
   "name": "python3"
  },
  "language_info": {
   "codemirror_mode": {
    "name": "ipython",
    "version": 3
   },
   "file_extension": ".py",
   "mimetype": "text/x-python",
   "name": "python",
   "nbconvert_exporter": "python",
   "pygments_lexer": "ipython3",
   "version": "3.10.9"
  }
 },
 "nbformat": 4,
 "nbformat_minor": 5
}
