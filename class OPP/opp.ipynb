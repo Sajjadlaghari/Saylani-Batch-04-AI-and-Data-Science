{
 "cells": [
  {
   "cell_type": "code",
   "execution_count": 14,
   "id": "c16fffae-ba6d-4ce9-88af-0a238871a4cb",
   "metadata": {},
   "outputs": [
    {
     "name": "stdout",
     "output_type": "stream",
     "text": [
      "Welcome Sajjad Ali Laghari  to the python class\n"
     ]
    }
   ],
   "source": [
    "class Student():\n",
    "    \n",
    "    def __init__(self, name):\n",
    "        self.name = name\n",
    "    def Welcome(self,name):\n",
    "        print(f\"Welcome {self.name} to the python class\")\n",
    "\n",
    "        \n",
    "class StudentInf(Student):\n",
    "    pass\n",
    "\n",
    "obj = StudentInf(\"Sajjad Ali Laghari \")\n",
    "\n",
    "obj.Welcome(\"Sajjad Ali\")\n",
    "    "
   ]
  },
  {
   "cell_type": "code",
   "execution_count": null,
   "id": "220fc275-fae2-47b8-ac6f-8990d8c8ac00",
   "metadata": {},
   "outputs": [],
   "source": []
  },
  {
   "cell_type": "code",
   "execution_count": null,
   "id": "655d99de-237e-4100-b3f1-50a65f8fbb5a",
   "metadata": {},
   "outputs": [],
   "source": []
  }
 ],
 "metadata": {
  "kernelspec": {
   "display_name": "Python 3 (ipykernel)",
   "language": "python",
   "name": "python3"
  },
  "language_info": {
   "codemirror_mode": {
    "name": "ipython",
    "version": 3
   },
   "file_extension": ".py",
   "mimetype": "text/x-python",
   "name": "python",
   "nbconvert_exporter": "python",
   "pygments_lexer": "ipython3",
   "version": "3.10.9"
  }
 },
 "nbformat": 4,
 "nbformat_minor": 5
}
