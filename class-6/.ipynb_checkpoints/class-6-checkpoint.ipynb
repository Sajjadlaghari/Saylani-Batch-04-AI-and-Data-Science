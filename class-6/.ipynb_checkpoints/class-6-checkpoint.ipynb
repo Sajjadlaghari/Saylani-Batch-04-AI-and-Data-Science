{
 "cells": [
  {
   "cell_type": "code",
   "execution_count": 1,
   "id": "efbfc42e-d224-45b3-bae5-6ff6422d4021",
   "metadata": {},
   "outputs": [
    {
     "name": "stdout",
     "output_type": "stream",
     "text": [
      "['Sajjad Ali', 1234, 'laghari']\n"
     ]
    }
   ],
   "source": [
    "list = ['Sajjad Ali',1234,'laghari']\n",
    "\n",
    "print(list)"
   ]
  },
  {
   "cell_type": "code",
   "execution_count": 2,
   "id": "a1920ebb-5aff-4ecb-8f94-dec69bf9f91b",
   "metadata": {},
   "outputs": [
    {
     "name": "stdout",
     "output_type": "stream",
     "text": [
      "['__add__', '__class__', '__class_getitem__', '__contains__', '__delattr__', '__delitem__', '__dir__', '__doc__', '__eq__', '__format__', '__ge__', '__getattribute__', '__getitem__', '__gt__', '__hash__', '__iadd__', '__imul__', '__init__', '__init_subclass__', '__iter__', '__le__', '__len__', '__lt__', '__mul__', '__ne__', '__new__', '__reduce__', '__reduce_ex__', '__repr__', '__reversed__', '__rmul__', '__setattr__', '__setitem__', '__sizeof__', '__str__', '__subclasshook__', 'append', 'clear', 'copy', 'count', 'extend', 'index', 'insert', 'pop', 'remove', 'reverse', 'sort']\n"
     ]
    }
   ],
   "source": [
    "print(dir(list))"
   ]
  },
  {
   "cell_type": "code",
   "execution_count": 6,
   "id": "245cf266-686a-4fb0-9ec2-299dbd6904b9",
   "metadata": {},
   "outputs": [
    {
     "name": "stdout",
     "output_type": "stream",
     "text": [
      "__add__\n",
      "__class__\n",
      "__class_getitem__\n",
      "__contains__\n",
      "__delattr__\n",
      "__delitem__\n",
      "__dir__\n",
      "__doc__\n",
      "__eq__\n",
      "__format__\n",
      "__ge__\n",
      "__getattribute__\n",
      "__getitem__\n",
      "__gt__\n",
      "__hash__\n",
      "__iadd__\n",
      "__imul__\n",
      "__init__\n",
      "__init_subclass__\n",
      "__iter__\n",
      "__le__\n",
      "__len__\n",
      "__lt__\n",
      "__mul__\n",
      "__ne__\n",
      "__new__\n",
      "__reduce__\n",
      "__reduce_ex__\n",
      "__repr__\n",
      "__reversed__\n",
      "__rmul__\n",
      "__setattr__\n",
      "__setitem__\n",
      "__sizeof__\n",
      "__str__\n",
      "__subclasshook__\n",
      "append\n",
      "clear\n",
      "copy\n",
      "count\n",
      "extend\n",
      "index\n",
      "insert\n",
      "pop\n",
      "remove\n",
      "reverse\n",
      "sort\n"
     ]
    }
   ],
   "source": [
    "for i in dir(list):\n",
    "    print(i)"
   ]
  },
  {
   "cell_type": "markdown",
   "id": "8d1c49ac-f8dd-446b-897d-bca4f245327d",
   "metadata": {},
   "source": [
    "## clear() method used for clean the list"
   ]
  },
  {
   "cell_type": "code",
   "execution_count": 54,
   "id": "9ca622cb-c2d5-4aae-aa13-e2d83f7e7da9",
   "metadata": {},
   "outputs": [
    {
     "name": "stdout",
     "output_type": "stream",
     "text": [
      "Before use for clear function\n",
      "['Sajjad Ali Laghari', 1, 2, 3, 4, 'a', 'b', 'c']\n",
      "\n",
      "After use for clear function\n",
      "After use for clear function\n",
      "[]\n"
     ]
    }
   ],
   "source": [
    "list = ['Sajjad Ali Laghari',1,2,3,4,'a','b','c']\n",
    "\n",
    "print(\"Before use for clear function\")\n",
    "print(list)\n",
    "\n",
    "print(\"\")\n",
    "\n",
    "\n",
    "print(\"After use for clear function\")\n",
    "list.clear()\n",
    "print(list)"
   ]
  },
  {
   "cell_type": "markdown",
   "id": "87b9d5ce-e8b1-4fca-bf2e-be7cf3743e30",
   "metadata": {},
   "source": [
    "## Append() Method used for append new value on last in list"
   ]
  },
  {
   "cell_type": "code",
   "execution_count": 51,
   "id": "8e95bf97-d781-47f1-b080-59685869ed25",
   "metadata": {},
   "outputs": [
    {
     "name": "stdout",
     "output_type": "stream",
     "text": [
      "[1, 2, 1234, 9, 10, 11, 12, 13, 14, 15, [5, 6, 7, 8]]\n"
     ]
    }
   ],
   "source": [
    "list = [1,2,1234,9,10,11,12,13,14,15]\n",
    "list1 = [5,6,7,8]\n",
    "\n",
    "list.append(list1)\n",
    "\n",
    "print(list)"
   ]
  },
  {
   "cell_type": "markdown",
   "id": "50319db8-ce50-4fa7-a36e-22da64516e49",
   "metadata": {},
   "source": [
    "## Extend methos used for combile value not same array"
   ]
  },
  {
   "cell_type": "code",
   "execution_count": 50,
   "id": "af96f464-8114-4edd-85fd-51897ac4d5bd",
   "metadata": {},
   "outputs": [
    {
     "name": "stdout",
     "output_type": "stream",
     "text": [
      "[1, 2, 1234, 9, 10, 11, 12, 13, 14, 15, 5, 6, 7, 8]\n"
     ]
    }
   ],
   "source": [
    "list = [1,2,1234,9,10,11,12,13,14,15]\n",
    "list1 = [5,6,7,8]\n",
    "\n",
    "list.extend(list1)\n",
    "\n",
    "print(list)"
   ]
  },
  {
   "cell_type": "markdown",
   "id": "251bc129-9a86-461e-85d5-41578d395482",
   "metadata": {},
   "source": [
    "## insert take 2 value 1 index number second value which one you want to insert"
   ]
  },
  {
   "cell_type": "code",
   "execution_count": 49,
   "id": "255bddce-8b10-40bd-a479-80ab9f9d2fa7",
   "metadata": {},
   "outputs": [
    {
     "name": "stdout",
     "output_type": "stream",
     "text": [
      "[1, 2, 1234, [5, 6, 7, 8], 9, 10, 11, 12, 13, 14, 15]\n"
     ]
    }
   ],
   "source": [
    "list = [1,2,1234,9,10,11,12,13,14,15]\n",
    "list1 = [5,6,7,8]\n",
    "\n",
    "list.insert(3,list1)\n",
    "\n",
    "print(list)\n"
   ]
  },
  {
   "cell_type": "code",
   "execution_count": 17,
   "id": "d852898a-0c3d-4d20-bdc2-94ac044ce252",
   "metadata": {},
   "outputs": [
    {
     "name": "stdout",
     "output_type": "stream",
     "text": [
      "['Sajjad Ali', 1234, 'laghari', 5]\n"
     ]
    }
   ],
   "source": [
    "list.append(5)\n",
    "\n",
    "print(list)"
   ]
  },
  {
   "cell_type": "code",
   "execution_count": null,
   "id": "eae97c16-c953-428c-9b9c-cbdb0e616df4",
   "metadata": {},
   "outputs": [],
   "source": []
  },
  {
   "cell_type": "code",
   "execution_count": null,
   "id": "7706fefc-1081-49ca-8535-144bbb1db7a5",
   "metadata": {},
   "outputs": [],
   "source": []
  },
  {
   "cell_type": "code",
   "execution_count": 9,
   "id": "94617075-76aa-4c71-a5d1-aa5bc6795eb2",
   "metadata": {},
   "outputs": [
    {
     "name": "stdout",
     "output_type": "stream",
     "text": [
      "2052935661184\n"
     ]
    }
   ],
   "source": [
    "print(id(list))"
   ]
  },
  {
   "cell_type": "code",
   "execution_count": 10,
   "id": "6325570f-41bc-4088-a36c-042674a58da9",
   "metadata": {},
   "outputs": [
    {
     "name": "stdout",
     "output_type": "stream",
     "text": [
      "2052935663424\n",
      "2052935661184\n"
     ]
    }
   ],
   "source": [
    "copy = list.copy()\n",
    "\n",
    "print(id(copy))\n",
    "\n",
    "print(id(list))"
   ]
  },
  {
   "cell_type": "code",
   "execution_count": 11,
   "id": "b7231890-f730-4070-a70b-8213c547728a",
   "metadata": {},
   "outputs": [
    {
     "name": "stdout",
     "output_type": "stream",
     "text": [
      "[]\n"
     ]
    }
   ],
   "source": [
    "list.clear()\n",
    "\n",
    "print(list)"
   ]
  },
  {
   "cell_type": "code",
   "execution_count": 14,
   "id": "83c5f39c-fce4-4a52-974d-d1362c2daca8",
   "metadata": {},
   "outputs": [
    {
     "name": "stdout",
     "output_type": "stream",
     "text": [
      "[]\n"
     ]
    }
   ],
   "source": [
    "print(list)"
   ]
  },
  {
   "cell_type": "code",
   "execution_count": null,
   "id": "1293f294-8954-44fa-be6f-3930ae45bf39",
   "metadata": {},
   "outputs": [],
   "source": []
  }
 ],
 "metadata": {
  "kernelspec": {
   "display_name": "Python 3 (ipykernel)",
   "language": "python",
   "name": "python3"
  },
  "language_info": {
   "codemirror_mode": {
    "name": "ipython",
    "version": 3
   },
   "file_extension": ".py",
   "mimetype": "text/x-python",
   "name": "python",
   "nbconvert_exporter": "python",
   "pygments_lexer": "ipython3",
   "version": "3.9.13"
  }
 },
 "nbformat": 4,
 "nbformat_minor": 5
}
