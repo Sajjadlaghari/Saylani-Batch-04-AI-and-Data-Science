{
 "cells": [
  {
   "cell_type": "code",
   "execution_count": null,
   "id": "26c8866e-a934-4b9d-acb1-4ff372ec593c",
   "metadata": {},
   "outputs": [],
   "source": [
    "text = \"\"\"\n",
    "Lorem Ipsum is simply dummy text of the printing and typesetting industry. Lorem Ipsum has\n",
    "been the industry's standard dummy text ever since the 1500s, when an unknown printer took a \n",
    "galley of type and scrambled it to make a type specimen book. It has survived not only five\n",
    "centuries, but also the leap into electronic typesetting, remaining essentially unchanged.\n",
    "It was popularised in the 1960s with the release of Letraset sheets containing Lorem Ipsum \n",
    "passages, and more recently with desktop publishing software like Aldus PageMaker including\n",
    "versions of Lorem Ipsum.\n",
    "Lorem Ipsum is simply dummy text of the printing and typesetting industry. Lorem Ipsum has\n",
    "been the industry's standard dummy text ever since the 1500s, when an unknown printer took a \n",
    "galley of type and scrambled it to make a type specimen book. It has survived not only five\n",
    "centuries, but also the leap into electronic typesetting, remaining essentially unchanged.\n",
    "It was popularised in the 1960s with the release of Letraset sheets containing Lorem Ipsum \n",
    "passages, and more recently with desktop publishing software like Aldus PageMaker including\n",
    "Lorem Ipsum is simply dummy text of the printing and typesetting industry. Lorem Ipsum has\n",
    "been the industry's standard dummy text ever since the 1500s, when an unknown printer took a \n",
    "galley of type and scrambled it to make a type specimen book. It has survived not only five\n",
    "centuries, but also the leap into electronic typesetting, remaining essentially unchanged.\n",
    "It was popularised in the 1960s with the release of Letraset sheets containing Lorem Ipsum \n",
    "passages, and more recently with desktop publishing software like Aldus PageMaker including\n",
    "Lorem Ipsum is simply dummy text of the printing and typesetting industry. Lorem Ipsum has\n",
    "been the industry's standard dummy text ever since the 1500s, when an unknown printer took a \n",
    "galley of type and scrambled it to make a type specimen book. It has survived not only five\n",
    "centuries, but also the leap into electronic typesetting, remaining essentially unchanged.\n",
    "It was popularised in the 1960s with the release of Letraset sheets containing Lorem Ipsum \n",
    "passages, and more recently with desktop publishing software like Aldus PageMaker including\n",
    "\n",
    "\"\"\""
   ]
  }
 ],
 "metadata": {
  "kernelspec": {
   "display_name": "Python 3 (ipykernel)",
   "language": "python",
   "name": "python3"
  },
  "language_info": {
   "codemirror_mode": {
    "name": "ipython",
    "version": 3
   },
   "file_extension": ".py",
   "mimetype": "text/x-python",
   "name": "python",
   "nbconvert_exporter": "python",
   "pygments_lexer": "ipython3",
   "version": "3.10.9"
  }
 },
 "nbformat": 4,
 "nbformat_minor": 5
}
