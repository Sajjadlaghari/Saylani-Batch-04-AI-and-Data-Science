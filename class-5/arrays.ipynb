{
 "cells": [
  {
   "cell_type": "code",
   "execution_count": 1,
   "id": "fd468cca-e070-4a04-aac6-b9bdcb5c938b",
   "metadata": {},
   "outputs": [
    {
     "name": "stdout",
     "output_type": "stream",
     "text": [
      "['Sajjad', 'Ahmed', 'Qasim', 'Ali', 123, 765, True, False]\n"
     ]
    }
   ],
   "source": [
    "list = ['Sajjad', 'Ahmed', 'Qasim','Ali',123,765,True, False]\n",
    "print(list)"
   ]
  },
  {
   "cell_type": "code",
   "execution_count": 3,
   "id": "5d69a41c-88f3-4324-afa4-10d348acf7d1",
   "metadata": {},
   "outputs": [
    {
     "name": "stdout",
     "output_type": "stream",
     "text": [
      "Qasim\n"
     ]
    }
   ],
   "source": [
    "print(list[2])"
   ]
  },
  {
   "cell_type": "code",
   "execution_count": 5,
   "id": "bdd94ddc-a351-4cc4-b68a-b42c40567291",
   "metadata": {},
   "outputs": [
    {
     "name": "stdout",
     "output_type": "stream",
     "text": [
      "False\n"
     ]
    }
   ],
   "source": [
    "print(list[7])"
   ]
  },
  {
   "cell_type": "code",
   "execution_count": 6,
   "id": "73ebb24e-7536-4d6f-8e5e-a3d0f04c530e",
   "metadata": {},
   "outputs": [
    {
     "name": "stdout",
     "output_type": "stream",
     "text": [
      "False\n"
     ]
    }
   ],
   "source": [
    "print(list[-1])"
   ]
  },
  {
   "cell_type": "code",
   "execution_count": 7,
   "id": "70e5f396-e181-4c40-ae3c-be2b96005478",
   "metadata": {},
   "outputs": [
    {
     "name": "stdout",
     "output_type": "stream",
     "text": [
      "True\n"
     ]
    }
   ],
   "source": [
    "print(list[-2])"
   ]
  },
  {
   "cell_type": "code",
   "execution_count": 12,
   "id": "88bd7bc0-9b76-4cf6-8b6c-e714df4247b0",
   "metadata": {},
   "outputs": [
    {
     "name": "stdout",
     "output_type": "stream",
     "text": [
      "8\n"
     ]
    }
   ],
   "source": [
    "i = len(list)\n",
    "\n",
    "print(i)"
   ]
  },
  {
   "cell_type": "code",
   "execution_count": 13,
   "id": "41ee898a-a907-4fa5-9644-cefd3d2bfec3",
   "metadata": {},
   "outputs": [
    {
     "data": {
      "text/plain": [
       "range(0, 10)"
      ]
     },
     "execution_count": 13,
     "metadata": {},
     "output_type": "execute_result"
    }
   ],
   "source": [
    "range(10)"
   ]
  },
  {
   "cell_type": "code",
   "execution_count": 14,
   "id": "cb7474d1-f7d4-43c5-a227-5503237871da",
   "metadata": {},
   "outputs": [
    {
     "name": "stdout",
     "output_type": "stream",
     "text": [
      "0\n",
      "1\n",
      "2\n",
      "3\n",
      "4\n",
      "5\n",
      "6\n",
      "7\n",
      "8\n",
      "9\n"
     ]
    }
   ],
   "source": [
    "for i in range(10):\n",
    "    print(i)"
   ]
  },
  {
   "cell_type": "code",
   "execution_count": 19,
   "id": "7d49b7ac-b9c4-4d1c-a022-a4faab469bbf",
   "metadata": {},
   "outputs": [
    {
     "name": "stdout",
     "output_type": "stream",
     "text": [
      "4\n",
      "6\n",
      "8\n",
      "10\n",
      "12\n",
      "14\n",
      "16\n",
      "18\n"
     ]
    }
   ],
   "source": [
    "for i in range(2,10):\n",
    "    print(i+i)"
   ]
  },
  {
   "cell_type": "code",
   "execution_count": 20,
   "id": "f1f078a7-1724-4a01-a8bb-3059f99e12e2",
   "metadata": {},
   "outputs": [
    {
     "name": "stdout",
     "output_type": "stream",
     "text": [
      "['Sajjad', 'Ahmed', 'Qasim', 'Ali', 123, 765, True, False]\n"
     ]
    }
   ],
   "source": [
    "list = ['Sajjad', 'Ahmed', 'Qasim','Ali',123,765,True, False]\n",
    "print(list)"
   ]
  },
  {
   "cell_type": "code",
   "execution_count": 21,
   "id": "5a8526ba-4f46-4116-b98e-81e70449121d",
   "metadata": {},
   "outputs": [
    {
     "name": "stdout",
     "output_type": "stream",
     "text": [
      "Sajjad\n",
      "Ahmed\n",
      "Qasim\n",
      "Ali\n",
      "123\n",
      "765\n",
      "True\n",
      "False\n"
     ]
    }
   ],
   "source": [
    "names = ['Sajjad', 'Ahmed', 'Qasim','Ali',123,765,True, False]\n",
    "\n",
    "for name in names:\n",
    "    print(name)"
   ]
  },
  {
   "cell_type": "code",
   "execution_count": null,
   "id": "c28eaeb5-9fb3-43d8-b65e-4674170c1b22",
   "metadata": {},
   "outputs": [],
   "source": []
  }
 ],
 "metadata": {
  "kernelspec": {
   "display_name": "Python 3 (ipykernel)",
   "language": "python",
   "name": "python3"
  },
  "language_info": {
   "codemirror_mode": {
    "name": "ipython",
    "version": 3
   },
   "file_extension": ".py",
   "mimetype": "text/x-python",
   "name": "python",
   "nbconvert_exporter": "python",
   "pygments_lexer": "ipython3",
   "version": "3.9.13"
  }
 },
 "nbformat": 4,
 "nbformat_minor": 5
}
