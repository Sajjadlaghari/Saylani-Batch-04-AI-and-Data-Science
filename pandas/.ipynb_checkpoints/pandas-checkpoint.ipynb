{
 "cells": [
  {
   "cell_type": "code",
   "execution_count": 1,
   "id": "75846b0f-984e-4dc7-a2bf-1c8d8f8b1484",
   "metadata": {},
   "outputs": [
    {
     "name": "stdout",
     "output_type": "stream",
     "text": [
      "Requirement already satisfied: pandas in c:\\users\\sajjad sindhi\\appdata\\local\\anaconda3\\lib\\site-packages (1.5.3)\n",
      "Requirement already satisfied: pytz>=2020.1 in c:\\users\\sajjad sindhi\\appdata\\local\\anaconda3\\lib\\site-packages (from pandas) (2022.7)\n",
      "Requirement already satisfied: python-dateutil>=2.8.1 in c:\\users\\sajjad sindhi\\appdata\\local\\anaconda3\\lib\\site-packages (from pandas) (2.8.2)\n",
      "Requirement already satisfied: numpy>=1.21.0 in c:\\users\\sajjad sindhi\\appdata\\local\\anaconda3\\lib\\site-packages (from pandas) (1.23.5)\n",
      "Requirement already satisfied: six>=1.5 in c:\\users\\sajjad sindhi\\appdata\\local\\anaconda3\\lib\\site-packages (from python-dateutil>=2.8.1->pandas) (1.16.0)\n"
     ]
    }
   ],
   "source": [
    "!pip install pandas"
   ]
  },
  {
   "cell_type": "code",
   "execution_count": 3,
   "id": "378f4b0c-7261-469b-859e-f7987d71c0dc",
   "metadata": {},
   "outputs": [
    {
     "data": {
      "text/plain": [
       "0    1\n",
       "1    2\n",
       "2    3\n",
       "3    4\n",
       "4    5\n",
       "5    6\n",
       "dtype: int64"
      ]
     },
     "execution_count": 3,
     "metadata": {},
     "output_type": "execute_result"
    }
   ],
   "source": [
    "import pandas as pd\n",
    "\n",
    "\n",
    "var = pd.Series([1,2,3,4,5,6])\n",
    "\n",
    "var"
   ]
  },
  {
   "cell_type": "code",
   "execution_count": 5,
   "id": "72169681-0cc2-41e6-970d-d210143f9090",
   "metadata": {},
   "outputs": [
    {
     "data": {
      "text/html": [
       "<div>\n",
       "<style scoped>\n",
       "    .dataframe tbody tr th:only-of-type {\n",
       "        vertical-align: middle;\n",
       "    }\n",
       "\n",
       "    .dataframe tbody tr th {\n",
       "        vertical-align: top;\n",
       "    }\n",
       "\n",
       "    .dataframe thead th {\n",
       "        text-align: right;\n",
       "    }\n",
       "</style>\n",
       "<table border=\"1\" class=\"dataframe\">\n",
       "  <thead>\n",
       "    <tr style=\"text-align: right;\">\n",
       "      <th></th>\n",
       "      <th>0</th>\n",
       "      <th>1</th>\n",
       "      <th>2</th>\n",
       "      <th>3</th>\n",
       "      <th>4</th>\n",
       "      <th>5</th>\n",
       "      <th>6</th>\n",
       "    </tr>\n",
       "  </thead>\n",
       "  <tbody>\n",
       "    <tr>\n",
       "      <th>0</th>\n",
       "      <td>1</td>\n",
       "      <td>2</td>\n",
       "      <td>3</td>\n",
       "      <td>4</td>\n",
       "      <td>5</td>\n",
       "      <td>6</td>\n",
       "      <td>7</td>\n",
       "    </tr>\n",
       "  </tbody>\n",
       "</table>\n",
       "</div>"
      ],
      "text/plain": [
       "   0  1  2  3  4  5  6\n",
       "0  1  2  3  4  5  6  7"
      ]
     },
     "execution_count": 5,
     "metadata": {},
     "output_type": "execute_result"
    }
   ],
   "source": [
    "var = pd.DataFrame([[1,2,3,4,5,6,7]])\n",
    "\n",
    "var"
   ]
  },
  {
   "cell_type": "code",
   "execution_count": 6,
   "id": "96f8f7d3-51c8-403c-bc3b-908a4936f930",
   "metadata": {},
   "outputs": [
    {
     "name": "stdout",
     "output_type": "stream",
     "text": [
      "    cars  passings\n",
      "0    BMW         3\n",
      "1  Volvo         7\n",
      "2   Ford         2\n"
     ]
    }
   ],
   "source": [
    "import pandas\n",
    "\n",
    "mydataset = {\n",
    "  'cars': [\"BMW\", \"Volvo\", \"Ford\"],\n",
    "  'passings': [3, 7, 2]\n",
    "}\n",
    "\n",
    "myvar = pandas.DataFrame(mydataset)\n",
    "\n",
    "print(myvar)"
   ]
  },
  {
   "cell_type": "code",
   "execution_count": 7,
   "id": "ae0137e9-b11b-4f0a-9159-c4c0575345a0",
   "metadata": {},
   "outputs": [
    {
     "name": "stdout",
     "output_type": "stream",
     "text": [
      "x    1\n",
      "y    7\n",
      "z    2\n",
      "dtype: int64\n"
     ]
    }
   ],
   "source": [
    "import pandas as pd\n",
    "\n",
    "a = [1, 7, 2]\n",
    "\n",
    "myvar = pd.Series(a, index = [\"x\", \"y\", \"z\"])\n",
    "\n",
    "print(myvar)"
   ]
  },
  {
   "cell_type": "code",
   "execution_count": 10,
   "id": "69bd4731-6387-43dc-9b99-7e27ce5d9974",
   "metadata": {},
   "outputs": [
    {
     "data": {
      "text/html": [
       "<div>\n",
       "<style scoped>\n",
       "    .dataframe tbody tr th:only-of-type {\n",
       "        vertical-align: middle;\n",
       "    }\n",
       "\n",
       "    .dataframe tbody tr th {\n",
       "        vertical-align: top;\n",
       "    }\n",
       "\n",
       "    .dataframe thead th {\n",
       "        text-align: right;\n",
       "    }\n",
       "</style>\n",
       "<table border=\"1\" class=\"dataframe\">\n",
       "  <thead>\n",
       "    <tr style=\"text-align: right;\">\n",
       "      <th></th>\n",
       "      <th>0</th>\n",
       "      <th>1</th>\n",
       "      <th>2</th>\n",
       "      <th>3</th>\n",
       "    </tr>\n",
       "  </thead>\n",
       "  <tbody>\n",
       "    <tr>\n",
       "      <th>0</th>\n",
       "      <td>89</td>\n",
       "      <td>86</td>\n",
       "      <td>24</td>\n",
       "      <td>27</td>\n",
       "    </tr>\n",
       "    <tr>\n",
       "      <th>1</th>\n",
       "      <td>21</td>\n",
       "      <td>75</td>\n",
       "      <td>50</td>\n",
       "      <td>47</td>\n",
       "    </tr>\n",
       "    <tr>\n",
       "      <th>2</th>\n",
       "      <td>34</td>\n",
       "      <td>82</td>\n",
       "      <td>10</td>\n",
       "      <td>1</td>\n",
       "    </tr>\n",
       "    <tr>\n",
       "      <th>3</th>\n",
       "      <td>98</td>\n",
       "      <td>79</td>\n",
       "      <td>8</td>\n",
       "      <td>24</td>\n",
       "    </tr>\n",
       "    <tr>\n",
       "      <th>4</th>\n",
       "      <td>49</td>\n",
       "      <td>22</td>\n",
       "      <td>64</td>\n",
       "      <td>49</td>\n",
       "    </tr>\n",
       "  </tbody>\n",
       "</table>\n",
       "</div>"
      ],
      "text/plain": [
       "    0   1   2   3\n",
       "0  89  86  24  27\n",
       "1  21  75  50  47\n",
       "2  34  82  10   1\n",
       "3  98  79   8  24\n",
       "4  49  22  64  49"
      ]
     },
     "execution_count": 10,
     "metadata": {},
     "output_type": "execute_result"
    }
   ],
   "source": [
    "import numpy as np\n",
    "\n",
    "data = np.random.randint(1,100,size=(5,4))\n",
    "\n",
    "data = pd.DataFrame(data)\n",
    "\n",
    "data"
   ]
  },
  {
   "cell_type": "code",
   "execution_count": 14,
   "id": "edd4dbe6-caa5-4db0-978d-40126eaf681d",
   "metadata": {},
   "outputs": [
    {
     "data": {
      "text/html": [
       "<div>\n",
       "<style scoped>\n",
       "    .dataframe tbody tr th:only-of-type {\n",
       "        vertical-align: middle;\n",
       "    }\n",
       "\n",
       "    .dataframe tbody tr th {\n",
       "        vertical-align: top;\n",
       "    }\n",
       "\n",
       "    .dataframe thead th {\n",
       "        text-align: right;\n",
       "    }\n",
       "</style>\n",
       "<table border=\"1\" class=\"dataframe\">\n",
       "  <thead>\n",
       "    <tr style=\"text-align: right;\">\n",
       "      <th></th>\n",
       "      <th></th>\n",
       "      <th>Not of Students</th>\n",
       "    </tr>\n",
       "  </thead>\n",
       "  <tbody>\n",
       "    <tr>\n",
       "      <th rowspan=\"2\" valign=\"top\">sindh</th>\n",
       "      <th>karachi</th>\n",
       "      <td>200</td>\n",
       "    </tr>\n",
       "    <tr>\n",
       "      <th>hyderabad</th>\n",
       "      <td>300</td>\n",
       "    </tr>\n",
       "    <tr>\n",
       "      <th rowspan=\"2\" valign=\"top\">punjab</th>\n",
       "      <th>lahore</th>\n",
       "      <td>150</td>\n",
       "    </tr>\n",
       "    <tr>\n",
       "      <th>faisalabad</th>\n",
       "      <td>175</td>\n",
       "    </tr>\n",
       "  </tbody>\n",
       "</table>\n",
       "</div>"
      ],
      "text/plain": [
       "                   Not of Students\n",
       "sindh  karachi                 200\n",
       "       hyderabad               300\n",
       "punjab lahore                  150\n",
       "       faisalabad              175"
      ]
     },
     "execution_count": 15,
     "metadata": {},
     "output_type": "execute_result"
    }
   ],
   "source": [
    "rows_index = [['sindh','sindh','punjab','punjab'],\n",
    "             ['karachi','hyderabad','lahore','faisalabad']\n",
    "             ]\n",
    "\n",
    "data = (200,300,150,175)\n",
    "\n",
    "df = pd.DataFrame(data,columns=['Not of Students'],index=rows_index)\n",
    "\n",
    "df"
   ]
  },
  {
   "cell_type": "code",
   "execution_count": null,
   "id": "721d4575-f183-4bb2-8232-ef5bd6c570c8",
   "metadata": {},
   "outputs": [],
   "source": []
  },
  {
   "cell_type": "code",
   "execution_count": null,
   "id": "4f7a7e95-e762-47ac-9fb4-071c4225a178",
   "metadata": {},
   "outputs": [],
   "source": []
  },
  {
   "cell_type": "code",
   "execution_count": 4,
   "id": "383e9d6f-5755-4f54-9911-5278766c8611",
   "metadata": {},
   "outputs": [
    {
     "name": "stdout",
     "output_type": "stream",
     "text": [
      "Mgvj\n"
     ]
    },
    {
     "data": {
      "text/plain": [
       "['Soqnwj', 'Qkkbh', 'Uxqxui']"
      ]
     },
     "execution_count": 4,
     "metadata": {},
     "output_type": "execute_result"
    }
   ],
   "source": [
    "def name_generator(max_len):\n",
    "    r = np.random.randint(3,max_len,1)[0]\n",
    "    fc = chr(np.random.randint(65,90,1)[0])\n",
    "    remaing_letters = np.random.randint(97,122,r)\n",
    "    remaing_letters = list(map(chr, remaing_letters))\n",
    "    return fc+\"\".join(remaing_letters)\n",
    "\n",
    "print(name_generator(5))\n",
    "\n",
    "list(map(name_generator,np.random.randint(4,20,3)))"
   ]
  },
  {
   "cell_type": "code",
   "execution_count": 6,
   "id": "a4cb7eb3-5c66-4ec1-80ed-3b17de7ce8f4",
   "metadata": {},
   "outputs": [
    {
     "data": {
      "text/plain": [
       "Timestamp('1977-08-13 00:00:00')"
      ]
     },
     "execution_count": 6,
     "metadata": {},
     "output_type": "execute_result"
    }
   ],
   "source": [
    "def dob_generator(start, end):\n",
    "    year = np.random.randint(start,end,1)[0]\n",
    "    month = np.random.randint(1,12,1)[0]\n",
    "    day = np.random.randint(1,28,1)[0]\n",
    "    \n",
    "    \n",
    "    return pd.to_datetime(f'{year}/{month}/{day}')\n",
    "\n",
    "dob_generator(1970,2017)"
   ]
  },
  {
   "cell_type": "code",
   "execution_count": 7,
   "id": "b8076adf-78c9-450b-aea7-8143025c826b",
   "metadata": {},
   "outputs": [
    {
     "data": {
      "text/html": [
       "<div>\n",
       "<style scoped>\n",
       "    .dataframe tbody tr th:only-of-type {\n",
       "        vertical-align: middle;\n",
       "    }\n",
       "\n",
       "    .dataframe tbody tr th {\n",
       "        vertical-align: top;\n",
       "    }\n",
       "\n",
       "    .dataframe thead th {\n",
       "        text-align: right;\n",
       "    }\n",
       "</style>\n",
       "<table border=\"1\" class=\"dataframe\">\n",
       "  <thead>\n",
       "    <tr style=\"text-align: right;\">\n",
       "      <th></th>\n",
       "      <th>roll_no</th>\n",
       "      <th>Name</th>\n",
       "      <th>Father Name</th>\n",
       "      <th>Course</th>\n",
       "      <th>Fee</th>\n",
       "      <th>dob</th>\n",
       "      <th>s1</th>\n",
       "      <th>s2</th>\n",
       "      <th>s3</th>\n",
       "      <th>s4</th>\n",
       "      <th>s5</th>\n",
       "    </tr>\n",
       "  </thead>\n",
       "  <tbody>\n",
       "    <tr>\n",
       "      <th>0</th>\n",
       "      <td>1</td>\n",
       "      <td>Blxtiyyhv</td>\n",
       "      <td>Srrl</td>\n",
       "      <td>AI</td>\n",
       "      <td>1000</td>\n",
       "      <td>1988-02-10</td>\n",
       "      <td>1</td>\n",
       "      <td>50</td>\n",
       "      <td>35</td>\n",
       "      <td>63</td>\n",
       "      <td>73</td>\n",
       "    </tr>\n",
       "    <tr>\n",
       "      <th>1</th>\n",
       "      <td>2</td>\n",
       "      <td>Fvirvs</td>\n",
       "      <td>Hnylirn</td>\n",
       "      <td>Video</td>\n",
       "      <td>1000</td>\n",
       "      <td>1969-08-21</td>\n",
       "      <td>4</td>\n",
       "      <td>46</td>\n",
       "      <td>95</td>\n",
       "      <td>13</td>\n",
       "      <td>95</td>\n",
       "    </tr>\n",
       "    <tr>\n",
       "      <th>2</th>\n",
       "      <td>3</td>\n",
       "      <td>Mhfilgu</td>\n",
       "      <td>Gqvwhp</td>\n",
       "      <td>Web</td>\n",
       "      <td>1500</td>\n",
       "      <td>1981-06-11</td>\n",
       "      <td>55</td>\n",
       "      <td>8</td>\n",
       "      <td>65</td>\n",
       "      <td>46</td>\n",
       "      <td>53</td>\n",
       "    </tr>\n",
       "    <tr>\n",
       "      <th>3</th>\n",
       "      <td>4</td>\n",
       "      <td>Algtucljlxqsim</td>\n",
       "      <td>Bseaamgxu</td>\n",
       "      <td>Video</td>\n",
       "      <td>1500</td>\n",
       "      <td>1987-10-14</td>\n",
       "      <td>75</td>\n",
       "      <td>76</td>\n",
       "      <td>68</td>\n",
       "      <td>25</td>\n",
       "      <td>29</td>\n",
       "    </tr>\n",
       "    <tr>\n",
       "      <th>4</th>\n",
       "      <td>5</td>\n",
       "      <td>Htkfle</td>\n",
       "      <td>Mudvyugmcgjiieke</td>\n",
       "      <td>Web</td>\n",
       "      <td>2000</td>\n",
       "      <td>1969-05-23</td>\n",
       "      <td>77</td>\n",
       "      <td>54</td>\n",
       "      <td>63</td>\n",
       "      <td>59</td>\n",
       "      <td>18</td>\n",
       "    </tr>\n",
       "    <tr>\n",
       "      <th>...</th>\n",
       "      <td>...</td>\n",
       "      <td>...</td>\n",
       "      <td>...</td>\n",
       "      <td>...</td>\n",
       "      <td>...</td>\n",
       "      <td>...</td>\n",
       "      <td>...</td>\n",
       "      <td>...</td>\n",
       "      <td>...</td>\n",
       "      <td>...</td>\n",
       "      <td>...</td>\n",
       "    </tr>\n",
       "    <tr>\n",
       "      <th>9995</th>\n",
       "      <td>9996</td>\n",
       "      <td>Ovdi</td>\n",
       "      <td>Vxoa</td>\n",
       "      <td>Web</td>\n",
       "      <td>1000</td>\n",
       "      <td>1978-01-07</td>\n",
       "      <td>84</td>\n",
       "      <td>84</td>\n",
       "      <td>46</td>\n",
       "      <td>25</td>\n",
       "      <td>21</td>\n",
       "    </tr>\n",
       "    <tr>\n",
       "      <th>9996</th>\n",
       "      <td>9997</td>\n",
       "      <td>Qksk</td>\n",
       "      <td>Fuwtw</td>\n",
       "      <td>Chatbot</td>\n",
       "      <td>1500</td>\n",
       "      <td>1979-03-25</td>\n",
       "      <td>30</td>\n",
       "      <td>73</td>\n",
       "      <td>84</td>\n",
       "      <td>23</td>\n",
       "      <td>99</td>\n",
       "    </tr>\n",
       "    <tr>\n",
       "      <th>9997</th>\n",
       "      <td>9998</td>\n",
       "      <td>Mtvcrqruhq</td>\n",
       "      <td>Utwhxt</td>\n",
       "      <td>Chatbot</td>\n",
       "      <td>1500</td>\n",
       "      <td>1985-01-05</td>\n",
       "      <td>98</td>\n",
       "      <td>29</td>\n",
       "      <td>2</td>\n",
       "      <td>92</td>\n",
       "      <td>63</td>\n",
       "    </tr>\n",
       "    <tr>\n",
       "      <th>9998</th>\n",
       "      <td>9999</td>\n",
       "      <td>Krckuw</td>\n",
       "      <td>Hwbiutlkif</td>\n",
       "      <td>Video</td>\n",
       "      <td>1000</td>\n",
       "      <td>1980-04-24</td>\n",
       "      <td>28</td>\n",
       "      <td>70</td>\n",
       "      <td>96</td>\n",
       "      <td>77</td>\n",
       "      <td>84</td>\n",
       "    </tr>\n",
       "    <tr>\n",
       "      <th>9999</th>\n",
       "      <td>10000</td>\n",
       "      <td>Ppjwrabcxfegtgco</td>\n",
       "      <td>Pbpop</td>\n",
       "      <td>Graphic</td>\n",
       "      <td>2000</td>\n",
       "      <td>1990-01-15</td>\n",
       "      <td>32</td>\n",
       "      <td>38</td>\n",
       "      <td>92</td>\n",
       "      <td>82</td>\n",
       "      <td>19</td>\n",
       "    </tr>\n",
       "  </tbody>\n",
       "</table>\n",
       "<p>10000 rows × 11 columns</p>\n",
       "</div>"
      ],
      "text/plain": [
       "      roll_no              Name       Father Name   Course   Fee        dob  \\\n",
       "0           1         Blxtiyyhv              Srrl       AI  1000 1988-02-10   \n",
       "1           2            Fvirvs           Hnylirn    Video  1000 1969-08-21   \n",
       "2           3           Mhfilgu            Gqvwhp      Web  1500 1981-06-11   \n",
       "3           4    Algtucljlxqsim         Bseaamgxu    Video  1500 1987-10-14   \n",
       "4           5            Htkfle  Mudvyugmcgjiieke      Web  2000 1969-05-23   \n",
       "...       ...               ...               ...      ...   ...        ...   \n",
       "9995     9996              Ovdi              Vxoa      Web  1000 1978-01-07   \n",
       "9996     9997              Qksk             Fuwtw  Chatbot  1500 1979-03-25   \n",
       "9997     9998        Mtvcrqruhq            Utwhxt  Chatbot  1500 1985-01-05   \n",
       "9998     9999            Krckuw        Hwbiutlkif    Video  1000 1980-04-24   \n",
       "9999    10000  Ppjwrabcxfegtgco             Pbpop  Graphic  2000 1990-01-15   \n",
       "\n",
       "      s1  s2  s3  s4  s5  \n",
       "0      1  50  35  63  73  \n",
       "1      4  46  95  13  95  \n",
       "2     55   8  65  46  53  \n",
       "3     75  76  68  25  29  \n",
       "4     77  54  63  59  18  \n",
       "...   ..  ..  ..  ..  ..  \n",
       "9995  84  84  46  25  21  \n",
       "9996  30  73  84  23  99  \n",
       "9997  98  29   2  92  63  \n",
       "9998  28  70  96  77  84  \n",
       "9999  32  38  92  82  19  \n",
       "\n",
       "[10000 rows x 11 columns]"
      ]
     },
     "execution_count": 7,
     "metadata": {},
     "output_type": "execute_result"
    }
   ],
   "source": [
    "import pandas as pd\n",
    "import numpy as np\n",
    "samples = 10000\n",
    "\n",
    "df = pd.DataFrame({\n",
    "    \"roll_no\":np.arange(1, samples+1),\n",
    "    \"Name\": list(map(name_generator,np.random.randint(4,20,samples))),\n",
    "    \"Father Name\": list(map(name_generator,np.random.randint(4,20,samples))),\n",
    "    \"Course\": np.random.choice([\"AI\",\"Web\",\"Chatbot\",\"Graphic\",\"Video\"], samples),\n",
    "     \"Fee\": np.random.choice([1000,1500,2000], samples),\n",
    "    \"dob\": [dob_generator(1969,i) for i in np.random.randint(1970,2017,samples)]\n",
    "})\n",
    "\n",
    "df1 = pd.DataFrame(np.random.randint(1,100,size=(samples,5)),\n",
    "                  columns=[\"s1\",'s2','s3','s4','s5'])\n",
    "df1\n",
    "\n",
    "\n",
    "\n",
    "df = pd.concat([df,df1], axis=1)\n",
    "\n",
    "df"
   ]
  },
  {
   "cell_type": "code",
   "execution_count": null,
   "id": "cbc33cbc-11e6-446e-bbdb-6958090ebe51",
   "metadata": {},
   "outputs": [],
   "source": []
  },
  {
   "cell_type": "code",
   "execution_count": null,
   "id": "1c380296-26ed-4ed7-b9dd-a838c8a3f953",
   "metadata": {},
   "outputs": [
    {
     "ename": "SyntaxError",
     "evalue": "invalid syntax (1967293353.py, line 3)",
     "output_type": "error",
     "traceback": [
      "\u001b[1;36m  Cell \u001b[1;32mIn[8], line 3\u001b[1;36m\u001b[0m\n\u001b[1;33m    pandas.core.series.Series0    a\u001b[0m\n\u001b[1;37m                                  ^\u001b[0m\n\u001b[1;31mSyntaxError\u001b[0m\u001b[1;31m:\u001b[0m invalid syntax\n"
     ]
    }
   ],
   "source": []
  }
 ],
 "metadata": {
  "kernelspec": {
   "display_name": "Python 3 (ipykernel)",
   "language": "python",
   "name": "python3"
  },
  "language_info": {
   "codemirror_mode": {
    "name": "ipython",
    "version": 3
   },
   "file_extension": ".py",
   "mimetype": "text/x-python",
   "name": "python",
   "nbconvert_exporter": "python",
   "pygments_lexer": "ipython3",
   "version": "3.10.9"
  }
 },
 "nbformat": 4,
 "nbformat_minor": 5
}
