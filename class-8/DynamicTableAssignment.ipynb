{
 "cells": [
  {
   "cell_type": "markdown",
   "id": "c8724550-a825-4540-9785-f8bcf350505d",
   "metadata": {},
   "source": [
    "# Table Dynamic Assignment"
   ]
  },
  {
   "cell_type": "code",
   "execution_count": 28,
   "id": "e33abfbb-72a4-4f61-a1b5-c6c19c50fce7",
   "metadata": {},
   "outputs": [
    {
     "name": "stdout",
     "output_type": "stream",
     "text": [
      "1 * 1 = 1       1 * 2 = 2       1 * 3 = 3       1 * 4 = 4       1 * 5 = 5       1 * 6 = 6       \n",
      "2 * 1 = 2       2 * 2 = 4       2 * 3 = 6       2 * 4 = 8       2 * 5 = 10       2 * 6 = 12       \n",
      "3 * 1 = 3       3 * 2 = 6       3 * 3 = 9       3 * 4 = 12       3 * 5 = 15       3 * 6 = 18       \n",
      "4 * 1 = 4       4 * 2 = 8       4 * 3 = 12       4 * 4 = 16       4 * 5 = 20       4 * 6 = 24       \n",
      "5 * 1 = 5       5 * 2 = 10       5 * 3 = 15       5 * 4 = 20       5 * 5 = 25       5 * 6 = 30       \n",
      "6 * 1 = 6       6 * 2 = 12       6 * 3 = 18       6 * 4 = 24       6 * 5 = 30       6 * 6 = 36       \n",
      "7 * 1 = 7       7 * 2 = 14       7 * 3 = 21       7 * 4 = 28       7 * 5 = 35       7 * 6 = 42       \n",
      "8 * 1 = 8       8 * 2 = 16       8 * 3 = 24       8 * 4 = 32       8 * 5 = 40       8 * 6 = 48       \n",
      "9 * 1 = 9       9 * 2 = 18       9 * 3 = 27       9 * 4 = 36       9 * 5 = 45       9 * 6 = 54       \n",
      "10 * 1 = 10       10 * 2 = 20       10 * 3 = 30       10 * 4 = 40       10 * 5 = 50       10 * 6 = 60       \n"
     ]
    }
   ],
   "source": [
    "start_from = 1\n",
    "height_of_table = 10\n",
    "length_of_table = 6\n",
    "\n",
    "for i in range(start_from,height_of_table+1):\n",
    "    for j in range(start_from,length_of_table+1):\n",
    "   \n",
    "            print(f\"{i} * {j} = {i*j}     \",end=\"  \")\n",
    "            \n",
    "    print()\n"
   ]
  }
 ],
 "metadata": {
  "kernelspec": {
   "display_name": "Python 3 (ipykernel)",
   "language": "python",
   "name": "python3"
  },
  "language_info": {
   "codemirror_mode": {
    "name": "ipython",
    "version": 3
   },
   "file_extension": ".py",
   "mimetype": "text/x-python",
   "name": "python",
   "nbconvert_exporter": "python",
   "pygments_lexer": "ipython3",
   "version": "3.9.13"
  }
 },
 "nbformat": 4,
 "nbformat_minor": 5
}
