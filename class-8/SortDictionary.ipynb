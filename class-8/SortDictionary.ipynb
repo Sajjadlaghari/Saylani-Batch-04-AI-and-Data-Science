{
 "cells": [
  {
   "cell_type": "markdown",
   "id": "760aa6d5-a58c-49de-8101-c28a612d6e4c",
   "metadata": {},
   "source": [
    "# Sort Dictionary value"
   ]
  },
  {
   "cell_type": "code",
   "execution_count": 19,
   "id": "b08cdd1f-4bdd-48ba-a4e6-7b58a34b42fa",
   "metadata": {},
   "outputs": [
    {
     "name": "stdout",
     "output_type": "stream",
     "text": [
      "{'c': '1', 'b': '2', 'a': '3'}\n"
     ]
    }
   ],
   "source": [
    "\n",
    "\n",
    "myDictionary={\"a\":\"3\", \"b\":\"2\", \"c\":\"1\"}\n",
    "\n",
    "newDictionary={}\n",
    "\n",
    "sortedDicValue = sorted(myDictionary.values())\n",
    "\n",
    "for sortedKey in sortedDicValue:\n",
    "    for key, value in myDictionary.items():\n",
    "        if value==sortedKey:\n",
    "            newDictionary[key]=value\n",
    "            \n",
    "\n",
    "            \n",
    "print(newDictionary)"
   ]
  },
  {
   "cell_type": "code",
   "execution_count": null,
   "id": "ac80b58d-834b-4bef-a0eb-158b2911f9f7",
   "metadata": {},
   "outputs": [],
   "source": []
  }
 ],
 "metadata": {
  "kernelspec": {
   "display_name": "Python 3 (ipykernel)",
   "language": "python",
   "name": "python3"
  },
  "language_info": {
   "codemirror_mode": {
    "name": "ipython",
    "version": 3
   },
   "file_extension": ".py",
   "mimetype": "text/x-python",
   "name": "python",
   "nbconvert_exporter": "python",
   "pygments_lexer": "ipython3",
   "version": "3.9.13"
  }
 },
 "nbformat": 4,
 "nbformat_minor": 5
}
