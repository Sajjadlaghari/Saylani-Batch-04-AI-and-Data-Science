{
 "cells": [
  {
   "cell_type": "code",
   "execution_count": null,
   "id": "e15867de-27a2-4242-8c14-db44f9b3a1c4",
   "metadata": {},
   "outputs": [],
   "source": []
  },
  {
   "cell_type": "code",
   "execution_count": 161,
   "id": "9638886b-20c5-4d49-8db7-fe9d16e06988",
   "metadata": {},
   "outputs": [
    {
     "ename": "InvalidSelectorException",
     "evalue": "Message: invalid selector: An invalid or illegal selector was specified\n  (Session info: chrome=113.0.5672.127)\nStacktrace:\nBacktrace:\n\tGetHandleVerifier [0x00DF8893+48451]\n\t(No symbol) [0x00D8B8A1]\n\t(No symbol) [0x00C95058]\n\t(No symbol) [0x00C983F1]\n\t(No symbol) [0x00C99631]\n\t(No symbol) [0x00C996D0]\n\t(No symbol) [0x00CC00C0]\n\t(No symbol) [0x00CC069B]\n\t(No symbol) [0x00CEDDCC]\n\t(No symbol) [0x00CDA304]\n\t(No symbol) [0x00CEC482]\n\t(No symbol) [0x00CDA0B6]\n\t(No symbol) [0x00CB7E08]\n\t(No symbol) [0x00CB8F2D]\n\tGetHandleVerifier [0x01058E3A+2540266]\n\tGetHandleVerifier [0x01098959+2801161]\n\tGetHandleVerifier [0x0109295C+2776588]\n\tGetHandleVerifier [0x00E82280+612144]\n\t(No symbol) [0x00D94F6C]\n\t(No symbol) [0x00D911D8]\n\t(No symbol) [0x00D912BB]\n\t(No symbol) [0x00D84857]\n\tBaseThreadInitThunk [0x756C00C9+25]\n\tRtlGetAppContainerNamedObjectPath [0x770E7B4E+286]\n\tRtlGetAppContainerNamedObjectPath [0x770E7B1E+238]\n",
     "output_type": "error",
     "traceback": [
      "\u001b[1;31m---------------------------------------------------------------------------\u001b[0m",
      "\u001b[1;31mInvalidSelectorException\u001b[0m                  Traceback (most recent call last)",
      "Cell \u001b[1;32mIn[161], line 15\u001b[0m\n\u001b[0;32m     12\u001b[0m num_pages \u001b[38;5;241m=\u001b[39m \u001b[38;5;241m1\u001b[39m\n\u001b[0;32m     13\u001b[0m \u001b[38;5;28;01mfor\u001b[39;00m page \u001b[38;5;129;01min\u001b[39;00m \u001b[38;5;28mrange\u001b[39m(num_pages):\n\u001b[1;32m---> 15\u001b[0m     product_prices \u001b[38;5;241m=\u001b[39m \u001b[43mdriver\u001b[49m\u001b[38;5;241;43m.\u001b[39;49m\u001b[43mfind_elements\u001b[49m\u001b[43m(\u001b[49m\u001b[43mBy\u001b[49m\u001b[38;5;241;43m.\u001b[39;49m\u001b[43mCSS_SELECTOR\u001b[49m\u001b[43m,\u001b[49m\u001b[38;5;124;43m'\u001b[39;49m\u001b[38;5;124;43ma.text-decoration-none.ProductItem-anchor_tag-Xv8h4.mb-1\u001b[39;49m\u001b[38;5;124;43m\"\u001b[39;49m\u001b[38;5;124;43m]\u001b[39;49m\u001b[38;5;124;43m'\u001b[39;49m\u001b[43m)\u001b[49m\n\u001b[0;32m     21\u001b[0m product_prices   \n\u001b[0;32m     26\u001b[0m result \u001b[38;5;241m=\u001b[39m []\n",
      "File \u001b[1;32m~\\AppData\\Local\\anaconda3\\lib\\site-packages\\selenium\\webdriver\\remote\\webdriver.py:861\u001b[0m, in \u001b[0;36mWebDriver.find_elements\u001b[1;34m(self, by, value)\u001b[0m\n\u001b[0;32m    857\u001b[0m     value \u001b[38;5;241m=\u001b[39m \u001b[38;5;124mf\u001b[39m\u001b[38;5;124m'\u001b[39m\u001b[38;5;124m[name=\u001b[39m\u001b[38;5;124m\"\u001b[39m\u001b[38;5;132;01m{\u001b[39;00mvalue\u001b[38;5;132;01m}\u001b[39;00m\u001b[38;5;124m\"\u001b[39m\u001b[38;5;124m]\u001b[39m\u001b[38;5;124m'\u001b[39m\n\u001b[0;32m    859\u001b[0m \u001b[38;5;66;03m# Return empty list if driver returns null\u001b[39;00m\n\u001b[0;32m    860\u001b[0m \u001b[38;5;66;03m# See https://github.com/SeleniumHQ/selenium/issues/4555\u001b[39;00m\n\u001b[1;32m--> 861\u001b[0m \u001b[38;5;28;01mreturn\u001b[39;00m \u001b[38;5;28;43mself\u001b[39;49m\u001b[38;5;241;43m.\u001b[39;49m\u001b[43mexecute\u001b[49m\u001b[43m(\u001b[49m\u001b[43mCommand\u001b[49m\u001b[38;5;241;43m.\u001b[39;49m\u001b[43mFIND_ELEMENTS\u001b[49m\u001b[43m,\u001b[49m\u001b[43m \u001b[49m\u001b[43m{\u001b[49m\u001b[38;5;124;43m\"\u001b[39;49m\u001b[38;5;124;43musing\u001b[39;49m\u001b[38;5;124;43m\"\u001b[39;49m\u001b[43m:\u001b[49m\u001b[43m \u001b[49m\u001b[43mby\u001b[49m\u001b[43m,\u001b[49m\u001b[43m \u001b[49m\u001b[38;5;124;43m\"\u001b[39;49m\u001b[38;5;124;43mvalue\u001b[39;49m\u001b[38;5;124;43m\"\u001b[39;49m\u001b[43m:\u001b[49m\u001b[43m \u001b[49m\u001b[43mvalue\u001b[49m\u001b[43m}\u001b[49m\u001b[43m)\u001b[49m[\u001b[38;5;124m\"\u001b[39m\u001b[38;5;124mvalue\u001b[39m\u001b[38;5;124m\"\u001b[39m] \u001b[38;5;129;01mor\u001b[39;00m []\n",
      "File \u001b[1;32m~\\AppData\\Local\\anaconda3\\lib\\site-packages\\selenium\\webdriver\\remote\\webdriver.py:440\u001b[0m, in \u001b[0;36mWebDriver.execute\u001b[1;34m(self, driver_command, params)\u001b[0m\n\u001b[0;32m    438\u001b[0m response \u001b[38;5;241m=\u001b[39m \u001b[38;5;28mself\u001b[39m\u001b[38;5;241m.\u001b[39mcommand_executor\u001b[38;5;241m.\u001b[39mexecute(driver_command, params)\n\u001b[0;32m    439\u001b[0m \u001b[38;5;28;01mif\u001b[39;00m response:\n\u001b[1;32m--> 440\u001b[0m     \u001b[38;5;28;43mself\u001b[39;49m\u001b[38;5;241;43m.\u001b[39;49m\u001b[43merror_handler\u001b[49m\u001b[38;5;241;43m.\u001b[39;49m\u001b[43mcheck_response\u001b[49m\u001b[43m(\u001b[49m\u001b[43mresponse\u001b[49m\u001b[43m)\u001b[49m\n\u001b[0;32m    441\u001b[0m     response[\u001b[38;5;124m\"\u001b[39m\u001b[38;5;124mvalue\u001b[39m\u001b[38;5;124m\"\u001b[39m] \u001b[38;5;241m=\u001b[39m \u001b[38;5;28mself\u001b[39m\u001b[38;5;241m.\u001b[39m_unwrap_value(response\u001b[38;5;241m.\u001b[39mget(\u001b[38;5;124m\"\u001b[39m\u001b[38;5;124mvalue\u001b[39m\u001b[38;5;124m\"\u001b[39m, \u001b[38;5;28;01mNone\u001b[39;00m))\n\u001b[0;32m    442\u001b[0m     \u001b[38;5;28;01mreturn\u001b[39;00m response\n",
      "File \u001b[1;32m~\\AppData\\Local\\anaconda3\\lib\\site-packages\\selenium\\webdriver\\remote\\errorhandler.py:245\u001b[0m, in \u001b[0;36mErrorHandler.check_response\u001b[1;34m(self, response)\u001b[0m\n\u001b[0;32m    243\u001b[0m         alert_text \u001b[38;5;241m=\u001b[39m value[\u001b[38;5;124m\"\u001b[39m\u001b[38;5;124malert\u001b[39m\u001b[38;5;124m\"\u001b[39m]\u001b[38;5;241m.\u001b[39mget(\u001b[38;5;124m\"\u001b[39m\u001b[38;5;124mtext\u001b[39m\u001b[38;5;124m\"\u001b[39m)\n\u001b[0;32m    244\u001b[0m     \u001b[38;5;28;01mraise\u001b[39;00m exception_class(message, screen, stacktrace, alert_text)  \u001b[38;5;66;03m# type: ignore[call-arg]  # mypy is not smart enough here\u001b[39;00m\n\u001b[1;32m--> 245\u001b[0m \u001b[38;5;28;01mraise\u001b[39;00m exception_class(message, screen, stacktrace)\n",
      "\u001b[1;31mInvalidSelectorException\u001b[0m: Message: invalid selector: An invalid or illegal selector was specified\n  (Session info: chrome=113.0.5672.127)\nStacktrace:\nBacktrace:\n\tGetHandleVerifier [0x00DF8893+48451]\n\t(No symbol) [0x00D8B8A1]\n\t(No symbol) [0x00C95058]\n\t(No symbol) [0x00C983F1]\n\t(No symbol) [0x00C99631]\n\t(No symbol) [0x00C996D0]\n\t(No symbol) [0x00CC00C0]\n\t(No symbol) [0x00CC069B]\n\t(No symbol) [0x00CEDDCC]\n\t(No symbol) [0x00CDA304]\n\t(No symbol) [0x00CEC482]\n\t(No symbol) [0x00CDA0B6]\n\t(No symbol) [0x00CB7E08]\n\t(No symbol) [0x00CB8F2D]\n\tGetHandleVerifier [0x01058E3A+2540266]\n\tGetHandleVerifier [0x01098959+2801161]\n\tGetHandleVerifier [0x0109295C+2776588]\n\tGetHandleVerifier [0x00E82280+612144]\n\t(No symbol) [0x00D94F6C]\n\t(No symbol) [0x00D911D8]\n\t(No symbol) [0x00D912BB]\n\t(No symbol) [0x00D84857]\n\tBaseThreadInitThunk [0x756C00C9+25]\n\tRtlGetAppContainerNamedObjectPath [0x770E7B4E+286]\n\tRtlGetAppContainerNamedObjectPath [0x770E7B1E+238]\n"
     ]
    }
   ],
   "source": [
    "from selenium import webdriver\n",
    "import pandas as pd\n",
    "from selenium.webdriver.common.keys import Keys\n",
    "from selenium.webdriver.support.ui import WebDriverWait\n",
    "from selenium.webdriver.support import expected_conditions as EC\n",
    "\n",
    "driver = webdriver.Chrome()\n",
    "driver.get('https://www.ikea.com/ae/en/')\n",
    "driver.maximize_window()\n",
    "\n",
    "driver.find_element(By.LINK_TEXT,'Shop food').click()\n",
    "num_pages = 1\n",
    "for page in range(num_pages):\n",
    "\n",
    "    product_prices = driver.find_elements(By.CSS_SELECTOR,'a.text-decoration-none.ProductItem-anchor_tag-Xv8h4.mb-1\"]')\n",
    "                                                                       \n",
    "                                                                       \n",
    "\n",
    "\n",
    "            \n",
    "product_prices   \n",
    "\n",
    "\n",
    "\n",
    "\n",
    "result = []\n",
    "num_pages = 1\n"
   ]
  },
  {
   "cell_type": "code",
   "execution_count": null,
   "id": "85f4fff6-42b1-40a6-98c9-7d8f050c1f76",
   "metadata": {},
   "outputs": [
    {
     "ename": "IndentationError",
     "evalue": "unexpected indent (11934378.py, line 5)",
     "output_type": "error",
     "traceback": [
      "\u001b[1;36m  Cell \u001b[1;32mIn[141], line 5\u001b[1;36m\u001b[0m\n\u001b[1;33m    for price in zip(product_prices):\u001b[0m\n\u001b[1;37m    ^\u001b[0m\n\u001b[1;31mIndentationError\u001b[0m\u001b[1;31m:\u001b[0m unexpected indent\n"
     ]
    }
   ],
   "source": [
    "\n",
    "    \n",
    "    \n",
    "    \n",
    "    product_name = name.text\n",
    "    \n",
    "    search_input = driver.find_element(By.XPATH,'//input[@type=\"search\"]')\n",
    "search_input.send_keys('laptops')\n",
    "search_input.send_keys(Keys.ENTER)\n",
    "\n",
    "                                                                         \n",
    "    for price in zip(product_prices):\n",
    "        product_prices = price.text()\n",
    "        result.append([product_prices])\n",
    "     \n",
    "\n",
    "                                                                   \n",
    "df = pd.DataFrame(result)\n",
    "filepath = 'my_excel_file.xlsx'\n",
    "df.to_excel(filepath, index=False)\n",
    "\n",
    "\n",
    "\n",
    "  \n",
    "    product_prices = driver.find_elements(By.CSS_SELECTOR,'span.a-price-whole')\n",
    "  "
   ]
  },
  {
   "cell_type": "code",
   "execution_count": null,
   "id": "61f3d98b-a995-455f-9f73-313cf735c2fb",
   "metadata": {},
   "outputs": [],
   "source": [
    "element = driver.find_element(By.XPATH, \"//input[@type='search']\").send_keys('CD 70 Bike')\n",
    "element = driver.find_element(By.XPATH, \"//button[@class='a3e390b5']\").click()\n",
    "\n"
   ]
  }
 ],
 "metadata": {
  "kernelspec": {
   "display_name": "Python 3 (ipykernel)",
   "language": "python",
   "name": "python3"
  },
  "language_info": {
   "codemirror_mode": {
    "name": "ipython",
    "version": 3
   },
   "file_extension": ".py",
   "mimetype": "text/x-python",
   "name": "python",
   "nbconvert_exporter": "python",
   "pygments_lexer": "ipython3",
   "version": "3.10.9"
  }
 },
 "nbformat": 4,
 "nbformat_minor": 5
}
