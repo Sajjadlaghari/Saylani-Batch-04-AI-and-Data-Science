{
 "cells": [
  {
   "cell_type": "markdown",
   "id": "1b468d4d-e960-45ab-bda5-8ce4bffcc959",
   "metadata": {},
   "source": [
    "# class 2\n",
    "* print something with the help of print() function\n",
    "* print simple string and also string with the help of triple single qoute and tripe double qoutes\n",
    "\n",
    "   \n",
    "     "
   ]
  },
  {
   "cell_type": "code",
   "execution_count": 2,
   "id": "c566b8ee-0fbb-408d-969a-6cd0014d6021",
   "metadata": {},
   "outputs": [
    {
     "name": "stdout",
     "output_type": "stream",
     "text": [
      "Hello\n"
     ]
    }
   ],
   "source": [
    "print(\"Hello\")"
   ]
  },
  {
   "cell_type": "code",
   "execution_count": 5,
   "id": "e9d13452-b08e-41a2-8f1d-ec728c0b36b1",
   "metadata": {},
   "outputs": [
    {
     "name": "stdout",
     "output_type": "stream",
     "text": [
      "   \n",
      "          Name:      Sajjad Ali\n",
      "          Age :      23\n",
      "          Batch:     04\n",
      "          Education: Graduation\n",
      "    \n"
     ]
    }
   ],
   "source": [
    "print('''   \n",
    "          Name:      Sajjad Ali\n",
    "          Age :      23\n",
    "          Batch:     04\n",
    "          Education: Graduation\n",
    "    ''')"
   ]
  },
  {
   "cell_type": "code",
   "execution_count": 6,
   "id": "de9c9015-a32e-4c87-9d4e-3229fe4c05ba",
   "metadata": {},
   "outputs": [
    {
     "name": "stdout",
     "output_type": "stream",
     "text": [
      "  \n",
      "          Name:      Sajjad Ali\n",
      "          Age :      23\n",
      "          Batch:     04\n",
      "          Education: Graduation\n",
      "    \n"
     ]
    }
   ],
   "source": [
    "print(\"\"\"  \n",
    "          Name:      Sajjad Ali\n",
    "          Age :      23\n",
    "          Batch:     04\n",
    "          Education: Graduation\n",
    "    \"\"\")"
   ]
  },
  {
   "cell_type": "code",
   "execution_count": 7,
   "id": "02bd18f8-d3fa-4e42-ab9b-191e174e0f9e",
   "metadata": {},
   "outputs": [
    {
     "name": "stdout",
     "output_type": "stream",
     "text": [
      "This is 'AI and Data Science' Spcialy Developed For Saylani Student \n"
     ]
    }
   ],
   "source": [
    "print(\"This is 'AI and Data Science' Spcialy Developed For Saylani Student \")"
   ]
  },
  {
   "cell_type": "code",
   "execution_count": 8,
   "id": "21258350-bbc9-4710-8d43-a3640403274d",
   "metadata": {},
   "outputs": [
    {
     "name": "stdout",
     "output_type": "stream",
     "text": [
      "This \"AI and Data Science\" Course will change your life \n"
     ]
    }
   ],
   "source": [
    "print('This \"AI and Data Science\" Course will change your life ')"
   ]
  },
  {
   "cell_type": "markdown",
   "id": "6f2ec00d-c8ce-4a24-a1c2-016bcfdddc6f",
   "metadata": {},
   "source": []
  },
  {
   "cell_type": "code",
   "execution_count": 11,
   "id": "641a00b5-e948-4c45-81f0-9d5300e71922",
   "metadata": {},
   "outputs": [
    {
     "name": "stdout",
     "output_type": "stream",
     "text": [
      "10\n"
     ]
    }
   ],
   "source": [
    "name =       \"Sajjad Ali\"\n",
    "age  =       23\n",
    "education =  \"Graduation\"\n",
    "Batch     =  \"Batch-04\"\n",
    "Course_duration = \"8 Month\"\n",
    "\n",
    "print(\"Student name \",name)\n",
    "print(\"Student age \",age)\n",
    "print(\"Education \",education)\n",
    "print(\"Batch   \",Batch)\n",
    "print(\"Course Duratio \",Course_duration)"
   ]
  },
  {
   "cell_type": "code",
   "execution_count": 12,
   "id": "f7e5f660-51c4-464c-ad61-d42076bdbc4b",
   "metadata": {},
   "outputs": [
    {
     "name": "stdout",
     "output_type": "stream",
     "text": [
      "<class 'str'>\n"
     ]
    }
   ],
   "source": [
    "print(type(name))\n",
    "print(len(name))\n"
   ]
  },
  {
   "cell_type": "code",
   "execution_count": null,
   "id": "1b7646a6-d939-49f5-b09f-0135c4307ce7",
   "metadata": {},
   "outputs": [],
   "source": []
  },
  {
   "cell_type": "code",
   "execution_count": 11,
   "id": "5d44ecd5-c434-4b2d-9751-ae040fd1e1f7",
   "metadata": {},
   "outputs": [
    {
     "name": "stdout",
     "output_type": "stream",
     "text": [
      "10\n",
      "<class 'str'>\n",
      "2446204257712\n",
      "['__add__', '__class__', '__contains__', '__delattr__', '__dir__', '__doc__', '__eq__', '__format__', '__ge__', '__getattribute__', '__getitem__', '__getnewargs__', '__gt__', '__hash__', '__init__', '__init_subclass__', '__iter__', '__le__', '__len__', '__lt__', '__mod__', '__mul__', '__ne__', '__new__', '__reduce__', '__reduce_ex__', '__repr__', '__rmod__', '__rmul__', '__setattr__', '__sizeof__', '__str__', '__subclasshook__', 'capitalize', 'casefold', 'center', 'count', 'encode', 'endswith', 'expandtabs', 'find', 'format', 'format_map', 'index', 'isalnum', 'isalpha', 'isascii', 'isdecimal', 'isdigit', 'isidentifier', 'islower', 'isnumeric', 'isprintable', 'isspace', 'istitle', 'isupper', 'join', 'ljust', 'lower', 'lstrip', 'maketrans', 'partition', 'removeprefix', 'removesuffix', 'replace', 'rfind', 'rindex', 'rjust', 'rpartition', 'rsplit', 'rstrip', 'split', 'splitlines', 'startswith', 'strip', 'swapcase', 'title', 'translate', 'upper', 'zfill']\n"
     ]
    }
   ],
   "source": [
    "name =       \"Sajjad Ali\"\n",
    "age  =       23\n",
    "education =  \"Graduation\"\n",
    "Batch     =  \"Batch-04\"\n",
    "Course_duration = \"8 Month\"\n",
    "\n",
    "print(len(name))\n",
    "print(type(name))\n",
    "print(id(name))\n",
    "print(dir(name))"
   ]
  },
  {
   "cell_type": "markdown",
   "id": "ee12d98b-83ef-478c-afa6-1cc4a5fc7140",
   "metadata": {},
   "source": [
    "## Some builtin Functions Like Below\n",
    "  * len()\n",
    "  * type()\n",
    "  * dir()\n",
    "  * id()"
   ]
  },
  {
   "cell_type": "code",
   "execution_count": null,
   "id": "e97795db-fc32-47ee-a21b-3d148d5a0eeb",
   "metadata": {},
   "outputs": [],
   "source": []
  },
  {
   "cell_type": "code",
   "execution_count": null,
   "id": "e5a07101-feec-4fc8-b449-847d4675f4c9",
   "metadata": {},
   "outputs": [],
   "source": []
  }
 ],
 "metadata": {
  "kernelspec": {
   "display_name": "Python 3 (ipykernel)",
   "language": "python",
   "name": "python3"
  },
  "language_info": {
   "codemirror_mode": {
    "name": "ipython",
    "version": 3
   },
   "file_extension": ".py",
   "mimetype": "text/x-python",
   "name": "python",
   "nbconvert_exporter": "python",
   "pygments_lexer": "ipython3",
   "version": "3.9.13"
  }
 },
 "nbformat": 4,
 "nbformat_minor": 5
}
