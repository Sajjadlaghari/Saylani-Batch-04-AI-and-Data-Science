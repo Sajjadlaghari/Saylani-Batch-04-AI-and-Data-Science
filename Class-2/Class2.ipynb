{
 "cells": [
  {
   "cell_type": "markdown",
   "id": "1b468d4d-e960-45ab-bda5-8ce4bffcc959",
   "metadata": {},
   "source": [
    "# class 2\n",
    "\n",
    "\n",
    "   \n",
    "     "
   ]
  },
  {
   "cell_type": "code",
   "execution_count": 2,
   "id": "c566b8ee-0fbb-408d-969a-6cd0014d6021",
   "metadata": {},
   "outputs": [
    {
     "name": "stdout",
     "output_type": "stream",
     "text": [
      "Hello\n"
     ]
    }
   ],
   "source": [
    "print(\"Hello\")"
   ]
  },
  {
   "cell_type": "code",
   "execution_count": 5,
   "id": "e9d13452-b08e-41a2-8f1d-ec728c0b36b1",
   "metadata": {},
   "outputs": [
    {
     "name": "stdout",
     "output_type": "stream",
     "text": [
      "   \n",
      "          Name:      Sajjad Ali\n",
      "          Age :      23\n",
      "          Batch:     04\n",
      "          Education: Graduation\n",
      "    \n"
     ]
    }
   ],
   "source": [
    "print('''   \n",
    "          Name:      Sajjad Ali\n",
    "          Age :      23\n",
    "          Batch:     04\n",
    "          Education: Graduation\n",
    "    ''')"
   ]
  },
  {
   "cell_type": "code",
   "execution_count": 6,
   "id": "de9c9015-a32e-4c87-9d4e-3229fe4c05ba",
   "metadata": {},
   "outputs": [
    {
     "name": "stdout",
     "output_type": "stream",
     "text": [
      "  \n",
      "          Name:      Sajjad Ali\n",
      "          Age :      23\n",
      "          Batch:     04\n",
      "          Education: Graduation\n",
      "    \n"
     ]
    }
   ],
   "source": [
    "print(\"\"\"  \n",
    "          Name:      Sajjad Ali\n",
    "          Age :      23\n",
    "          Batch:     04\n",
    "          Education: Graduation\n",
    "    \"\"\")"
   ]
  },
  {
   "cell_type": "code",
   "execution_count": 7,
   "id": "02bd18f8-d3fa-4e42-ab9b-191e174e0f9e",
   "metadata": {},
   "outputs": [
    {
     "name": "stdout",
     "output_type": "stream",
     "text": [
      "This is 'AI and Data Science' Spcialy Developed For Saylani Student \n"
     ]
    }
   ],
   "source": [
    "print(\"This is 'AI and Data Science' Spcialy Developed For Saylani Student \")"
   ]
  },
  {
   "cell_type": "code",
   "execution_count": 8,
   "id": "21258350-bbc9-4710-8d43-a3640403274d",
   "metadata": {},
   "outputs": [
    {
     "name": "stdout",
     "output_type": "stream",
     "text": [
      "This \"AI and Data Science\" Course will change your life \n"
     ]
    }
   ],
   "source": [
    "print('This \"AI and Data Science\" Course will change your life ')"
   ]
  },
  {
   "cell_type": "code",
   "execution_count": 10,
   "id": "bcafb2b7-c233-4235-bfc9-9808b169edfc",
   "metadata": {},
   "outputs": [
    {
     "name": "stdout",
     "output_type": "stream",
     "text": [
      "Student name  Sajjad Ali\n",
      "Student age  23\n",
      "Education  Graduation\n",
      "Batch    Batch-04\n",
      "Course Duratio  8 Month\n"
     ]
    }
   ],
   "source": [
    "name =       \"Sajjad Ali\"\n",
    "age  =       23\n",
    "education =  \"Graduation\"\n",
    "Batch     =  \"Batch-04\"\n",
    "Course_duration = \"8 Month\"\n",
    "\n",
    "print(\"Student name \",name)\n",
    "print(\"Student age \",age)\n",
    "print(\"Education \",education)\n",
    "print(\"Batch   \",Batch)\n",
    "print(\"Course Duratio \",Course_duration)"
   ]
  },
  {
   "cell_type": "code",
   "execution_count": 11,
   "id": "641a00b5-e948-4c45-81f0-9d5300e71922",
   "metadata": {},
   "outputs": [
    {
     "name": "stdout",
     "output_type": "stream",
     "text": [
      "10\n"
     ]
    }
   ],
   "source": [
    "print(len(name))"
   ]
  },
  {
   "cell_type": "code",
   "execution_count": 12,
   "id": "f7e5f660-51c4-464c-ad61-d42076bdbc4b",
   "metadata": {},
   "outputs": [
    {
     "name": "stdout",
     "output_type": "stream",
     "text": [
      "<class 'str'>\n"
     ]
    }
   ],
   "source": [
    "print(type(name))"
   ]
  },
  {
   "cell_type": "code",
   "execution_count": 13,
   "id": "163660b2-5aa0-4602-ac33-648cda6450e4",
   "metadata": {},
   "outputs": [
    {
     "name": "stdout",
     "output_type": "stream",
     "text": [
      "10\n",
      "<class 'str'>\n"
     ]
    }
   ],
   "source": [
    "print(len(name))\n",
    "print(type(name))"
   ]
  },
  {
   "cell_type": "code",
   "execution_count": null,
   "id": "5d44ecd5-c434-4b2d-9751-ae040fd1e1f7",
   "metadata": {},
   "outputs": [],
   "source": [
    "print(len(name))\n",
    "print(type(name))"
   ]
  }
 ],
 "metadata": {
  "kernelspec": {
   "display_name": "Python 3 (ipykernel)",
   "language": "python",
   "name": "python3"
  },
  "language_info": {
   "codemirror_mode": {
    "name": "ipython",
    "version": 3
   },
   "file_extension": ".py",
   "mimetype": "text/x-python",
   "name": "python",
   "nbconvert_exporter": "python",
   "pygments_lexer": "ipython3",
   "version": "3.9.13"
  }
 },
 "nbformat": 4,
 "nbformat_minor": 5
}
