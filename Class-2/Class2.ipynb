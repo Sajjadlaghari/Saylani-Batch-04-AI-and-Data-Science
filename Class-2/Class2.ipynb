{
 "cells": [
  {
   "cell_type": "markdown",
   "id": "1b468d4d-e960-45ab-bda5-8ce4bffcc959",
   "metadata": {},
   "source": [
    "# class 2\n",
    "* print something with the help of print() function\n",
    "* print simple string and also string with the help of triple single qoute and tripe double qoutes\n",
    "\n",
    "   \n",
    "     "
   ]
  },
  {
   "cell_type": "code",
   "execution_count": 2,
   "id": "c566b8ee-0fbb-408d-969a-6cd0014d6021",
   "metadata": {},
   "outputs": [
    {
     "name": "stdout",
     "output_type": "stream",
     "text": [
      "Hello\n"
     ]
    }
   ],
   "source": [
    "print(\"Hello\")"
   ]
  },
  {
   "cell_type": "code",
   "execution_count": 5,
   "id": "e9d13452-b08e-41a2-8f1d-ec728c0b36b1",
   "metadata": {},
   "outputs": [
    {
     "name": "stdout",
     "output_type": "stream",
     "text": [
      "   \n",
      "          Name:      Sajjad Ali\n",
      "          Age :      23\n",
      "          Batch:     04\n",
      "          Education: Graduation\n",
      "    \n"
     ]
    }
   ],
   "source": [
    "print('''   \n",
    "          Name:      Sajjad Ali\n",
    "          Age :      23\n",
    "          Batch:     04\n",
    "          Education: Graduation\n",
    "    ''')"
   ]
  },
  {
   "cell_type": "code",
   "execution_count": 6,
   "id": "de9c9015-a32e-4c87-9d4e-3229fe4c05ba",
   "metadata": {},
   "outputs": [
    {
     "name": "stdout",
     "output_type": "stream",
     "text": [
      "  \n",
      "          Name:      Sajjad Ali\n",
      "          Age :      23\n",
      "          Batch:     04\n",
      "          Education: Graduation\n",
      "    \n"
     ]
    }
   ],
   "source": [
    "print(\"\"\"  \n",
    "          Name:      Sajjad Ali\n",
    "          Age :      23\n",
    "          Batch:     04\n",
    "          Education: Graduation\n",
    "    \"\"\")"
   ]
  },
  {
   "cell_type": "code",
   "execution_count": 7,
   "id": "02bd18f8-d3fa-4e42-ab9b-191e174e0f9e",
   "metadata": {},
   "outputs": [
    {
     "name": "stdout",
     "output_type": "stream",
     "text": [
      "This is 'AI and Data Science' Spcialy Developed For Saylani Student \n"
     ]
    }
   ],
   "source": [
    "print(\"This is 'AI and Data Science' Spcialy Developed For Saylani Student \")"
   ]
  },
  {
   "cell_type": "code",
   "execution_count": 8,
   "id": "21258350-bbc9-4710-8d43-a3640403274d",
   "metadata": {},
   "outputs": [
    {
     "name": "stdout",
     "output_type": "stream",
     "text": [
      "This \"AI and Data Science\" Course will change your life \n"
     ]
    }
   ],
   "source": [
    "print('This \"AI and Data Science\" Course will change your life ')"
   ]
  },
  {
   "cell_type": "markdown",
   "id": "6f2ec00d-c8ce-4a24-a1c2-016bcfdddc6f",
   "metadata": {},
   "source": [
    "# Use Variables \n",
    " * There are many data types but we currlty use 3 Integer, String, and floast"
   ]
  },
  {
   "cell_type": "code",
   "execution_count": 13,
   "id": "641a00b5-e948-4c45-81f0-9d5300e71922",
   "metadata": {},
   "outputs": [
    {
     "name": "stdout",
     "output_type": "stream",
     "text": [
      "Student name  Sajjad Ali\n",
      "Student age  23\n",
      "Education  Graduation\n",
      "Batch    Batch-04\n",
      "Course Duratio  8 Month\n"
     ]
    }
   ],
   "source": [
    "name =       \"Sajjad Ali\"\n",
    "age  =       23\n",
    "education =  \"Graduation\"\n",
    "Batch     =  \"Batch-04\"\n",
    "Course_duration = \"8 Month\"\n",
    "\n",
    "print(\"Student name \",name)\n",
    "print(\"Student age \",age)\n",
    "print(\"Education \",education)\n",
    "print(\"Batch   \",Batch)\n",
    "print(\"Course Duratio \",Course_duration)"
   ]
  },
  {
   "cell_type": "code",
   "execution_count": 12,
   "id": "f7e5f660-51c4-464c-ad61-d42076bdbc4b",
   "metadata": {},
   "outputs": [
    {
     "name": "stdout",
     "output_type": "stream",
     "text": [
      "<class 'str'>\n"
     ]
    }
   ],
   "source": [
    "print(type(name))\n",
    "print(len(name))\n"
   ]
  },
  {
   "cell_type": "code",
   "execution_count": null,
   "id": "1b7646a6-d939-49f5-b09f-0135c4307ce7",
   "metadata": {},
   "outputs": [],
   "source": []
  },
  {
   "cell_type": "code",
   "execution_count": 11,
   "id": "5d44ecd5-c434-4b2d-9751-ae040fd1e1f7",
   "metadata": {},
   "outputs": [
    {
     "name": "stdout",
     "output_type": "stream",
     "text": [
      "10\n",
      "<class 'str'>\n",
      "2446204257712\n",
      "['__add__', '__class__', '__contains__', '__delattr__', '__dir__', '__doc__', '__eq__', '__format__', '__ge__', '__getattribute__', '__getitem__', '__getnewargs__', '__gt__', '__hash__', '__init__', '__init_subclass__', '__iter__', '__le__', '__len__', '__lt__', '__mod__', '__mul__', '__ne__', '__new__', '__reduce__', '__reduce_ex__', '__repr__', '__rmod__', '__rmul__', '__setattr__', '__sizeof__', '__str__', '__subclasshook__', 'capitalize', 'casefold', 'center', 'count', 'encode', 'endswith', 'expandtabs', 'find', 'format', 'format_map', 'index', 'isalnum', 'isalpha', 'isascii', 'isdecimal', 'isdigit', 'isidentifier', 'islower', 'isnumeric', 'isprintable', 'isspace', 'istitle', 'isupper', 'join', 'ljust', 'lower', 'lstrip', 'maketrans', 'partition', 'removeprefix', 'removesuffix', 'replace', 'rfind', 'rindex', 'rjust', 'rpartition', 'rsplit', 'rstrip', 'split', 'splitlines', 'startswith', 'strip', 'swapcase', 'title', 'translate', 'upper', 'zfill']\n"
     ]
    }
   ],
   "source": [
    "name =       \"Sajjad Ali\"\n",
    "age  =       23\n",
    "education =  \"Graduation\"\n",
    "Batch     =  \"Batch-04\"\n",
    "Course_duration = \"8 Month\"\n",
    "\n",
    "print(len(name))\n",
    "print(type(name))\n",
    "print(id(name))\n",
    "print(dir(name))"
   ]
  },
  {
   "cell_type": "markdown",
   "id": "ee12d98b-83ef-478c-afa6-1cc4a5fc7140",
   "metadata": {},
   "source": [
    "## Some builtin Functions Like Below\n",
    "  * len()\n",
    "  * type()\n",
    "  * dir()\n",
    "  * id()"
   ]
  },
  {
   "cell_type": "code",
   "execution_count": 1,
   "id": "e97795db-fc32-47ee-a21b-3d148d5a0eeb",
   "metadata": {},
   "outputs": [
    {
     "name": "stdout",
     "output_type": "stream",
     "text": [
      "The Zen of Python, by Tim Peters\n",
      "\n",
      "Beautiful is better than ugly.\n",
      "Explicit is better than implicit.\n",
      "Simple is better than complex.\n",
      "Complex is better than complicated.\n",
      "Flat is better than nested.\n",
      "Sparse is better than dense.\n",
      "Readability counts.\n",
      "Special cases aren't special enough to break the rules.\n",
      "Although practicality beats purity.\n",
      "Errors should never pass silently.\n",
      "Unless explicitly silenced.\n",
      "In the face of ambiguity, refuse the temptation to guess.\n",
      "There should be one-- and preferably only one --obvious way to do it.\n",
      "Although that way may not be obvious at first unless you're Dutch.\n",
      "Now is better than never.\n",
      "Although never is often better than *right* now.\n",
      "If the implementation is hard to explain, it's a bad idea.\n",
      "If the implementation is easy to explain, it may be a good idea.\n",
      "Namespaces are one honking great idea -- let's do more of those!\n"
     ]
    }
   ],
   "source": [
    "import this"
   ]
  },
  {
   "cell_type": "code",
   "execution_count": 6,
   "id": "e5a07101-feec-4fc8-b449-847d4675f4c9",
   "metadata": {},
   "outputs": [
    {
     "name": "stdout",
     "output_type": "stream",
     "text": [
      "76\n"
     ]
    }
   ],
   "source": [
    "value1 = 34\n",
    "value2 = 42\n",
    "\n",
    "print(value1+value2)"
   ]
  },
  {
   "cell_type": "code",
   "execution_count": 7,
   "id": "d5adff1a-d555-4856-b6df-61540fd49fae",
   "metadata": {},
   "outputs": [
    {
     "name": "stdout",
     "output_type": "stream",
     "text": [
      "-8\n"
     ]
    }
   ],
   "source": [
    "value1 = 34\n",
    "value2 = 42\n",
    "\n",
    "print(value1-value2)"
   ]
  },
  {
   "cell_type": "code",
   "execution_count": 8,
   "id": "7e6ec4f6-c70d-499a-b13a-b31676015029",
   "metadata": {},
   "outputs": [
    {
     "name": "stdout",
     "output_type": "stream",
     "text": [
      "1428\n"
     ]
    }
   ],
   "source": [
    "value1 = 34\n",
    "value2 = 42\n",
    "\n",
    "print(value1*value2)"
   ]
  },
  {
   "cell_type": "code",
   "execution_count": 10,
   "id": "2b4223fc-af30-4ec5-b105-c81c90278b6c",
   "metadata": {},
   "outputs": [
    {
     "name": "stdout",
     "output_type": "stream",
     "text": [
      "0.8095238095238095\n"
     ]
    }
   ],
   "source": [
    "value1 = 34\n",
    "value2 = 42\n",
    "\n",
    "print(value1/value2)"
   ]
  },
  {
   "cell_type": "code",
   "execution_count": 12,
   "id": "3fb7b70c-7da6-45af-b26d-8093554f19c5",
   "metadata": {},
   "outputs": [
    {
     "name": "stdout",
     "output_type": "stream",
     "text": [
      "34\n"
     ]
    }
   ],
   "source": [
    "value1 = 34\n",
    "value2 = 42\n",
    "\n",
    "print(value1%value2)"
   ]
  },
  {
   "cell_type": "code",
   "execution_count": 36,
   "id": "6f503104-8406-40b2-a2b1-7b002254d6a4",
   "metadata": {},
   "outputs": [
    {
     "name": "stdout",
     "output_type": "stream",
     "text": [
      "*********************************8\n"
     ]
    }
   ],
   "source": [
    "option = \"*\"\n",
    "value1 = 34\n",
    "value2 = 42\n",
    "\n",
    "if option == \"+\":\n",
    "    print(value1%value2)\n",
    "elif option == \"-\":   \n",
    "    print(value1-value2)\n",
    "elif option == \"/\":\n",
    "    print(value1/value2)\n",
    "elif option == '%':\n",
    "    print(value1%value2)\n",
    "elif option == \"*\":\n",
    "    print(\"*********************************8\")\n",
    "    "
   ]
  },
  {
   "cell_type": "code",
   "execution_count": 41,
   "id": "7374b393-f316-4a97-a1f8-c01cd31750b9",
   "metadata": {},
   "outputs": [
    {
     "name": "stdout",
     "output_type": "stream",
     "text": [
      "10\n",
      "9\n",
      "8\n",
      "7\n",
      "6\n",
      "5\n",
      "4\n",
      "3\n",
      "2\n"
     ]
    }
   ],
   "source": [
    "i = 10\n",
    "while i > 1:\n",
    "   print(i)\n",
    "   i=i-1"
   ]
  },
  {
   "cell_type": "code",
   "execution_count": 7,
   "id": "3839f829-49f8-4eb9-ac31-43e6d8b995f3",
   "metadata": {},
   "outputs": [
    {
     "name": "stdout",
     "output_type": "stream",
     "text": [
      "4\n",
      "8\n",
      "12\n",
      "16\n",
      "20\n",
      "24\n",
      "28\n",
      "32\n",
      "36\n",
      "40\n"
     ]
    }
   ],
   "source": [
    "i = 1\n",
    "j = 4\n",
    "while i <= 10 :\n",
    "   print(i*j)\n",
    "   i=i+1"
   ]
  },
  {
   "cell_type": "code",
   "execution_count": 8,
   "id": "c7b377f4-1534-4d10-b55e-5d96ad4d46f1",
   "metadata": {},
   "outputs": [
    {
     "name": "stdout",
     "output_type": "stream",
     "text": [
      "5\n",
      "10\n",
      "15\n",
      "20\n",
      "25\n",
      "30\n",
      "35\n",
      "40\n",
      "45\n",
      "50\n"
     ]
    }
   ],
   "source": [
    "i = 1\n",
    "j = 5\n",
    "while i <= 10 :\n",
    "   print(i*j)\n",
    "   i=i+1"
   ]
  },
  {
   "cell_type": "code",
   "execution_count": 10,
   "id": "434f9b2c-1f77-48d1-8de9-60cd1ad17720",
   "metadata": {},
   "outputs": [
    {
     "data": {
      "text/plain": [
       "\u001b[1;31mSignature:\u001b[0m \u001b[0mlen\u001b[0m\u001b[1;33m(\u001b[0m\u001b[0mobj\u001b[0m\u001b[1;33m,\u001b[0m \u001b[1;33m/\u001b[0m\u001b[1;33m)\u001b[0m\u001b[1;33m\u001b[0m\u001b[1;33m\u001b[0m\u001b[0m\n",
       "\u001b[1;31mDocstring:\u001b[0m Return the number of items in a container.\n",
       "\u001b[1;31mType:\u001b[0m      builtin_function_or_method\n"
      ]
     },
     "metadata": {},
     "output_type": "display_data"
    }
   ],
   "source": [
    "len??"
   ]
  },
  {
   "cell_type": "code",
   "execution_count": 11,
   "id": "6385b276-35c6-4bb0-84d9-9b9d6bc7f923",
   "metadata": {},
   "outputs": [
    {
     "data": {
      "text/plain": [
       "\u001b[1;31mSignature:\u001b[0m \u001b[0mlen\u001b[0m\u001b[1;33m(\u001b[0m\u001b[0mobj\u001b[0m\u001b[1;33m,\u001b[0m \u001b[1;33m/\u001b[0m\u001b[1;33m)\u001b[0m\u001b[1;33m\u001b[0m\u001b[1;33m\u001b[0m\u001b[0m\n",
       "\u001b[1;31mDocstring:\u001b[0m Return the number of items in a container.\n",
       "\u001b[1;31mType:\u001b[0m      builtin_function_or_method\n"
      ]
     },
     "metadata": {},
     "output_type": "display_data"
    }
   ],
   "source": [
    "?len"
   ]
  },
  {
   "cell_type": "code",
   "execution_count": 12,
   "id": "6c7d00eb-eafc-43d5-a83a-a07afd6bb93e",
   "metadata": {},
   "outputs": [
    {
     "name": "stdout",
     "output_type": "stream",
     "text": [
      "range(0, 10)\n"
     ]
    }
   ],
   "source": [
    "print(range(10))"
   ]
  },
  {
   "cell_type": "code",
   "execution_count": 16,
   "id": "76d568de-7007-409d-9d01-ea2401cd6445",
   "metadata": {},
   "outputs": [
    {
     "name": "stdout",
     "output_type": "stream",
     "text": [
      "10\n"
     ]
    }
   ],
   "source": [
    "a = 10\n",
    "\n",
    "print(a)"
   ]
  },
  {
   "cell_type": "code",
   "execution_count": 19,
   "id": "ebffdbde-978d-4647-8ea5-89709d989e0c",
   "metadata": {},
   "outputs": [
    {
     "name": "stdout",
     "output_type": "stream",
     "text": [
      "2\n"
     ]
    }
   ],
   "source": [
    "print(a-a+2)"
   ]
  },
  {
   "cell_type": "code",
   "execution_count": 20,
   "id": "86f4595b-b88b-44b0-a4af-e9413c69a7af",
   "metadata": {},
   "outputs": [
    {
     "name": "stdout",
     "output_type": "stream",
     "text": [
      "Hello"
     ]
    }
   ],
   "source": [
    "print(\"Hello\", sep=\"\", end=\"\")"
   ]
  },
  {
   "cell_type": "code",
   "execution_count": 21,
   "id": "6126f7bb-498f-4e94-8ea3-832dc8da750c",
   "metadata": {},
   "outputs": [
    {
     "name": "stdout",
     "output_type": "stream",
     "text": [
      "Hello Sajjad Ali Laghari"
     ]
    }
   ],
   "source": [
    "print(\"Hello Sajjad Ali Laghari\", sep=\"*\", end=\"\")"
   ]
  },
  {
   "cell_type": "code",
   "execution_count": 36,
   "id": "c65c51dc-814a-45d0-843c-b33d5bf3bc85",
   "metadata": {},
   "outputs": [
    {
     "name": "stdout",
     "output_type": "stream",
     "text": [
      "****_____Hello****=====****______**** Sajjad****=====****______**** Ali****=====****______**** Laghari_____****"
     ]
    }
   ],
   "source": [
    "print(\"****_____Hello\",\"Sajjad\",\"Ali\",\"Laghari\" ,sep=\"****=====****______**** \", end=\"_____****\")"
   ]
  },
  {
   "cell_type": "code",
   "execution_count": 55,
   "id": "c9df187c-709b-4e37-8139-8bf4b146fb7f",
   "metadata": {},
   "outputs": [
    {
     "name": "stdout",
     "output_type": "stream",
     "text": [
      "Hello Sajjad How are you Sajjad\n",
      "Hello Ali How are you Ali\n",
      "Hello Ahmed How are you Ahmed\n",
      "Hello Javeed How are you Javeed\n",
      "Hello Yasir How are you Yasir\n",
      "Hello Imdad How are you Imdad\n",
      "Hello John Doe How are you John Doe\n"
     ]
    }
   ],
   "source": [
    "name = [\"Sajjad\",\"Ali\",\"Ahmed\",\"Javeed\",\"Yasir\",\"Imdad\",\"John Doe\"]\n",
    "\n",
    "\n",
    "\n",
    "for data in name:\n",
    "\n",
    "    print(\"Hello \",data,sep=\"\", end=\"\")\n",
    "    print(\" How are you\",data)\n",
    "    "
   ]
  },
  {
   "cell_type": "code",
   "execution_count": 50,
   "id": "04ff46a7-be2d-4bf3-a405-b50aad593c08",
   "metadata": {},
   "outputs": [
    {
     "name": "stdout",
     "output_type": "stream",
     "text": [
      "The Zen of Python, by Tim Peters\n",
      "\n",
      "Beautiful is better than ugly.\n",
      "Explicit is better than implicit.\n",
      "Simple is better than complex.\n",
      "Complex is better than complicated.\n",
      "Flat is better than nested.\n",
      "Sparse is better than dense.\n",
      "Readability counts.\n",
      "Special cases aren't special enough to break the rules.\n",
      "Although practicality beats purity.\n",
      "Errors should never pass silently.\n",
      "Unless explicitly silenced.\n",
      "In the face of ambiguity, refuse the temptation to guess.\n",
      "There should be one-- and preferably only one --obvious way to do it.\n",
      "Although that way may not be obvious at first unless you're Dutch.\n",
      "Now is better than never.\n",
      "Although never is often better than *right* now.\n",
      "If the implementation is hard to explain, it's a bad idea.\n",
      "If the implementation is easy to explain, it may be a good idea.\n",
      "Namespaces are one honking great idea -- let's do more of those!\n"
     ]
    }
   ],
   "source": [
    "import this"
   ]
  },
  {
   "cell_type": "code",
   "execution_count": null,
   "id": "0c3b13c9-f7d1-4f5e-ba7d-779573b6c0c2",
   "metadata": {},
   "outputs": [],
   "source": []
  }
 ],
 "metadata": {
  "kernelspec": {
   "display_name": "Python 3 (ipykernel)",
   "language": "python",
   "name": "python3"
  },
  "language_info": {
   "codemirror_mode": {
    "name": "ipython",
    "version": 3
   },
   "file_extension": ".py",
   "mimetype": "text/x-python",
   "name": "python",
   "nbconvert_exporter": "python",
   "pygments_lexer": "ipython3",
   "version": "3.9.13"
  }
 },
 "nbformat": 4,
 "nbformat_minor": 5
}
