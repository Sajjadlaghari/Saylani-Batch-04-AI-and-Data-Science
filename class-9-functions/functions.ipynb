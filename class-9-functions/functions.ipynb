{
 "cells": [
  {
   "cell_type": "markdown",
   "id": "6ebc6bf2-737e-4729-b05f-3ce883cccf6d",
   "metadata": {},
   "source": [
    "## Functions\n"
   ]
  },
  {
   "cell_type": "code",
   "execution_count": 17,
   "id": "40f6dcf2-d394-41c0-bcfa-34f88f1977b7",
   "metadata": {},
   "outputs": [
    {
     "name": "stdout",
     "output_type": "stream",
     "text": [
      "Invalid Input\n"
     ]
    }
   ],
   "source": [
    "def arthmatics(val1, val2,operand=''):\n",
    "    \n",
    "    if(operand == '+'):\n",
    "        return val1+val2\n",
    "    elif(operand == '-'):\n",
    "        return val1-val2\n",
    "    elif(operand == '*'):\n",
    "        return val1*val2\n",
    "    elif(operand == '/'):\n",
    "         return val1/val2\n",
    "    elif(operand == '%'):\n",
    "         return val1%val2\n",
    "    else:\n",
    "        return \"Invalid Input\"\n",
    "    \n",
    "    \n",
    "    \n",
    "print(arthmatics(10,20,'k'))\n",
    "\n",
    "    "
   ]
  },
  {
   "cell_type": "code",
   "execution_count": 24,
   "id": "9b738410-ebce-4a29-b02b-cbc0e7caca12",
   "metadata": {},
   "outputs": [
    {
     "name": "stdout",
     "output_type": "stream",
     "text": [
      "10\n",
      "20\n",
      "(1, 3, 4, 5, 6, 7, 8, 9)\n",
      "{'name': 'Sajjad Ali', 'cast': 'Laghari'}\n"
     ]
    }
   ],
   "source": [
    "def opposition(val1,val2, *val3optional,**val4):\n",
    "    \n",
    "    print(val1)    \n",
    "    print(val2)    \n",
    "    print(val3optional)\n",
    "    print(val4)\n",
    "    \n",
    "\n",
    "opposition(10,20,1,3,4,5,6,7,8,9,name=\"Sajjad Ali\",cast='Laghari')"
   ]
  },
  {
   "cell_type": "code",
   "execution_count": null,
   "id": "5732c9f2-a748-46bb-b0ac-1f63fe96b9fb",
   "metadata": {},
   "outputs": [],
   "source": []
  },
  {
   "cell_type": "code",
   "execution_count": null,
   "id": "5543d2de-0c13-4197-aad4-eb0fd28f8163",
   "metadata": {},
   "outputs": [],
   "source": []
  }
 ],
 "metadata": {
  "kernelspec": {
   "display_name": "Python 3 (ipykernel)",
   "language": "python",
   "name": "python3"
  },
  "language_info": {
   "codemirror_mode": {
    "name": "ipython",
    "version": 3
   },
   "file_extension": ".py",
   "mimetype": "text/x-python",
   "name": "python",
   "nbconvert_exporter": "python",
   "pygments_lexer": "ipython3",
   "version": "3.9.13"
  }
 },
 "nbformat": 4,
 "nbformat_minor": 5
}
