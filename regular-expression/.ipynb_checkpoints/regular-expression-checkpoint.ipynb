{
 "cells": [
  {
   "cell_type": "markdown",
   "id": "1248a2f2-d7d9-40d9-8dd6-04e61ecaea5b",
   "metadata": {},
   "source": [
    "# Regular Expression\n",
    "\n",
    "`+` means minimum 1 <br>\n",
    "`*` means 0 to many<br> \n",
    " `ai[0123456789]+` means ai and 1 to many<br>\n",
    "  `ai[0123456789]*` means ai and 0 to many<br>\n",
    "    `ai[0123456789]{1,5}` means minimum 1 and maximum 5<br>\n",
    "\n"
   ]
  },
  {
   "cell_type": "code",
   "execution_count": 30,
   "id": "0f4a4d14-94ad-4064-96f0-5642aef4ff92",
   "metadata": {},
   "outputs": [],
   "source": [
    "import re"
   ]
  },
  {
   "cell_type": "code",
   "execution_count": 29,
   "id": "7980c8d0-1ee1-477e-ad0c-602a95883ef0",
   "metadata": {},
   "outputs": [
    {
     "name": "stdout",
     "output_type": "stream",
     "text": [
      "['aki', 'aUi', 'ani']\n",
      "['ain']\n",
      "['akistan Zinda Abad', 'arachi', 'aaaaaaaUiHHHHHHH', 'aylani Mass IT Training', 'abcd      a']\n",
      "['aylan', 'ainin']\n",
      "['akistan', 'aylan', 'ainin']\n",
      "['akistan Zinda Abad', 'arachi', 'aaaaaaaUiHHHHHHH', 'aylani Mass IT Training', 'abcd      a']\n"
     ]
    }
   ],
   "source": [
    "text = \"\"\"Pakistan Zinda Abad\n",
    "i'm living in karachi\n",
    "hello world aaaaaaaUiHHHHHHH\n",
    "Saylani Mass IT Training\n",
    "abcd      a\n",
    "i\n",
    "\n",
    "\"\"\"\n",
    "\n",
    "print(re.findall('a.i',text))\n",
    "print(re.findall('a.n',text))\n",
    "print(re.findall('a.+',text))\n",
    "print(re.findall('a.{3}n',text))\n",
    "print(re.findall('a.{1,5}n',text))\n",
    "print(re.findall('a.*',text))"
   ]
  },
  {
   "cell_type": "code",
   "execution_count": 37,
   "id": "1a64b643-c509-4a73-a93e-ac4b05557a7d",
   "metadata": {},
   "outputs": [
    {
     "name": "stdout",
     "output_type": "stream",
     "text": [
      "['ai37464', 'ai4654', 'ai354235', 'ai37463']\n",
      "['ai37464', 'ai4654', 'ai35423', 'ai37463']\n",
      "['ai37464', 'ai4654', 'ai354235', 'ai37463']\n"
     ]
    }
   ],
   "source": [
    "rollNo = \"\"\"\n",
    "\n",
    "ai37464\n",
    "ai4654\n",
    "ai354235\n",
    "ai37463\n",
    "\n",
    "\"\"\"\n",
    "\n",
    "\n",
    "print(re.findall('ai[123456789]+',rollNo))\n",
    "print(re.findall('ai[123456789]{1,5}',rollNo))\n",
    "print(re.findall('ai[123456789]*',rollNo))"
   ]
  },
  {
   "cell_type": "code",
   "execution_count": 42,
   "id": "cb7d80d6-0546-4e43-8fe5-df1d045b95aa",
   "metadata": {},
   "outputs": [
    {
     "name": "stdout",
     "output_type": "stream",
     "text": [
      "['abc', 'ac', 'c', 'cb', 'aaa', 'abc', 'bbaab']\n",
      "['abc', 'aaa', 'abc', 'bbaab']\n",
      "['bbaab']\n"
     ]
    }
   ],
   "source": [
    "\n",
    "text = \"\"\" \n",
    "\n",
    "abc\n",
    "acd\n",
    "fjf\n",
    "shdue\n",
    "dhd\n",
    "cds\n",
    "cbx\n",
    "ss\n",
    "aaa\n",
    "abc\n",
    "bbaabd\n",
    "\n",
    "\n",
    "\"\"\"\n",
    "\n",
    "print(re.findall('[abc]{1,5}',text))\n",
    "print(re.findall('[abc]{3,5}',text))\n",
    "print(re.findall('[abc]{4,5}',text))"
   ]
  },
  {
   "cell_type": "code",
   "execution_count": null,
   "id": "02aac7e9-625a-4987-9acf-f79659a38a1a",
   "metadata": {},
   "outputs": [],
   "source": []
  },
  {
   "cell_type": "code",
   "execution_count": null,
   "id": "1222aeee-f784-4c3a-9741-c80e013f7c09",
   "metadata": {},
   "outputs": [],
   "source": []
  },
  {
   "cell_type": "code",
   "execution_count": null,
   "id": "fc824d22-e4f0-41e3-a5d4-30111678a36b",
   "metadata": {},
   "outputs": [],
   "source": []
  },
  {
   "cell_type": "code",
   "execution_count": 3,
   "id": "4bbd319a-5f67-4dde-b9ce-cde0adc4b51b",
   "metadata": {},
   "outputs": [],
   "source": [
    "import re"
   ]
  },
  {
   "cell_type": "code",
   "execution_count": 6,
   "id": "06d195e7-8b29-4b87-bbbe-e74fe0f8fb9b",
   "metadata": {},
   "outputs": [
    {
     "name": "stdout",
     "output_type": "stream",
     "text": [
      "[]\n"
     ]
    }
   ],
   "source": [
    "rawdata = \"\"\"\n",
    "05:40 From Ali Asar To Everyone : PIAIC-187258\n",
    "12:05:41 From Hasnain Munir To Everyone : PIAIC-187272\n",
    "12:05:44 From Shaheer Baig To Everyone : PIAIC-169519\n",
    "12:05:45 From Humera Naz To Everyone : PIAIC-173431\n",
    "12:05:47 From Sadia Anwar To Everyone : PIAIC-180028\n",
    "12:05:47 From Muhammad Mehroz To Everyone : PIAIC-131496\n",
    "12:05:47 From Home To Everyone : PIAIC-172998\n",
    "12:05:47 From Muhammad Sadullah = PIAIC-178950 To Everyone : PIAIC-178950\n",
    "12:05:48 From Muhammad Uzair-177637 To Everyone : PIAIC-177637\n",
    "12:05:48 From Taqwa Khaliq To Everyone : PIAIC-173701 TAQWA KHALIQ\n",
    "12:05:48 From asghar ibraheem CNC-012105 To Everyone : CNC-012105\n",
    "12:05:49 From Faisal Bashir-177802 To Everyone : PIAIC-177802\n",
    "12:05:50 From Talha Munir Rana To Everyone : PIAIC-173761\n",
    "12:05:52 From Abdul Qadar To Everyone : PIAIC-172941\n",
    "12:05:57 From Dr. Bhagwan Das To Everyone : PIAIC-96879\n",
    "12:05:57 From Uzair Ullah (PIAIC169405) To Everyone : PIAIC-169405\n",
    "12:06:00 From Arshad To Everyone : PIAIC168092\n",
    "12:06:01 From PIAIC188523 Subhan Ahmed To Everyone : PIAIC188523\n",
    "12:06:04 From Taqwa Khaliq To Everyone : PIAIC 173701\n",
    "12:06:10 From Ali Asar To Everyone : PIAIC-188720\n",
    "12:06:23 From Mohammad Javed To Everyone : WhatsApp number?\n",
    "12:06:28 From Gulshan Ali To Everyone : PIAIC-176719\n",
    "12:06:29 From M Ali Asif Khan - PIAIC-57947 To Everyone : PIAIC-57947\n",
    "12:06:33 From Usman Noor PIAIC-188401 To Everyone : PIAIC-188401\n",
    "12:06:46 From Zia (piaic121514) To Everyone : thanks\n",
    "12:06:49 From Sohaib Baseer Ahmad To Everyone : PIAIC67260\n",
    "12:40:20 From Ali Asar To Everyone : PIAIC-187258\n",
    "12:05:47 From Muhammad Mehroz To Everyone : PIAIC-131496\n",
    "12:05:47 From Home To Everyone : PIAIC-172998\n",
    "12:05:47 From Muhammad Sadullah = PIAIC-178950 To Everyone : PIAIC-178950\n",
    "12:05:48 From Muhammad Uzair-177637 To Everyone : PIAIC-177637\n",
    "12:05:48 From Taqwa Khaliq To Everyone : PIAIC-173701 TAQWA KHALIQ\n",
    "12:05:48 From asghar ibraheem CNC-012105 To Everyone : CNC-012105\n",
    "12:05:49 From Faisal Bashir-177802 To Everyone : PIAIC-177802\n",
    "12:05:50 From Talha Munir Rana To Everyone : PIAIC-173761\n",
    "12:05:52 From Abdul Qadar To Everyone : PIAIC-172941\n",
    "12:05:57 From Dr. Bhagwan Das To Everyone : PIAIC-96879\n",
    "12:05:57 From Uzair Ullah (PIAIC169405) To Everyone : PIAIC-169405\n",
    "12:06:00 From Arshad To Everyone : PIAIC168092\n",
    "12:06:01 From PIAIC188523 Subhan Ahmed To Everyone : PIAIC188523\n",
    "12:06:04 From Taqwa Khaliq To Everyone : PIAIC 173701\n",
    "12:06:10 From Ali Asar To Everyone : PIAIC-188720\n",
    "12:06:23 From Mohammad Javed To Everyone : WhatsApp number?\n",
    "\n",
    "12:05:47 From Muhammad Mehroz To Everyone : PIAIC-131496\n",
    "12:05:47 From Home To Everyone : PIAIC-172998\n",
    "12:05:47 From Muhammad Sadullah = PIAIC-178950 To Everyone : PIAIC-178950\n",
    "12:05:48 From Muhammad Uzair-177637 To Everyone : PIAIC-177637\n",
    "12:05:48 From Taqwa Khaliq To Everyone : PIAIC-173701 TAQWA KHALIQ\n",
    "12:05:48 From asghar ibraheem CNC-012105 To Everyone : CNC-012105\n",
    "12:05:49 From Faisal Bashir-177802 To Everyone : PIAIC-177802\n",
    "12:05:50 From Talha Munir Rana To Everyone : PIAIC-173761\n",
    "12:05:52 From Abdul Qadar To Everyone : PIAIC-172941\n",
    "12:05:57 From Dr. Bhagwan Das To Everyone : PIAIC-96879\n",
    "12:05:57 From Uzair Ullah (PIAIC169405) To Everyone : PIAIC-169405\n",
    "12:06:00 From Arshad To Everyone : PIAIC168092\n",
    "12:06:01 From PIAIC188523 Subhan Ahmed To Everyone : PIAIC188523\n",
    "12:06:04 From Taqwa Khaliq To Everyone : PIAIC 173701\n",
    "12:06:10 From Ali Asar To Everyone : PIAIC-188720\n",
    "12:06:23 From Mohammad Javed To Everyone : WhatsApp number?\n",
    "\n",
    "\"\"\"\n",
    "\n",
    "data = r\"(\\b[1-9]{2}:[1-9]{2}:[1-9]{2})\"\n",
    "\n",
    "\n",
    "\n",
    "print(re.findall(data,rawdata))\n"
   ]
  },
  {
   "cell_type": "code",
   "execution_count": null,
   "id": "72c214b9-e2d7-4512-be75-9e55e3d23de4",
   "metadata": {},
   "outputs": [],
   "source": []
  },
  {
   "cell_type": "code",
   "execution_count": null,
   "id": "4b6d3a9b-b856-4bd1-a659-088002414daa",
   "metadata": {},
   "outputs": [],
   "source": []
  }
 ],
 "metadata": {
  "kernelspec": {
   "display_name": "Python 3 (ipykernel)",
   "language": "python",
   "name": "python3"
  },
  "language_info": {
   "codemirror_mode": {
    "name": "ipython",
    "version": 3
   },
   "file_extension": ".py",
   "mimetype": "text/x-python",
   "name": "python",
   "nbconvert_exporter": "python",
   "pygments_lexer": "ipython3",
   "version": "3.10.9"
  }
 },
 "nbformat": 4,
 "nbformat_minor": 5
}
